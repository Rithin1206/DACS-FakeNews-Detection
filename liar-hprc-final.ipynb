{
 "cells": [
  {
   "cell_type": "code",
   "execution_count": 1,
   "metadata": {
    "id": "ASjUtKyoH0tP"
   },
   "outputs": [
    {
     "name": "stderr",
     "output_type": "stream",
     "text": [
      "2023-11-29 23:58:00.055573: I tensorflow/core/util/port.cc:111] oneDNN custom operations are on. You may see slightly different numerical results due to floating-point round-off errors from different computation orders. To turn them off, set the environment variable `TF_ENABLE_ONEDNN_OPTS=0`.\n",
      "2023-11-29 23:58:00.097877: E tensorflow/compiler/xla/stream_executor/cuda/cuda_dnn.cc:9342] Unable to register cuDNN factory: Attempting to register factory for plugin cuDNN when one has already been registered\n",
      "2023-11-29 23:58:00.097911: E tensorflow/compiler/xla/stream_executor/cuda/cuda_fft.cc:609] Unable to register cuFFT factory: Attempting to register factory for plugin cuFFT when one has already been registered\n",
      "2023-11-29 23:58:00.097938: E tensorflow/compiler/xla/stream_executor/cuda/cuda_blas.cc:1518] Unable to register cuBLAS factory: Attempting to register factory for plugin cuBLAS when one has already been registered\n",
      "2023-11-29 23:58:00.107966: I tensorflow/core/platform/cpu_feature_guard.cc:182] This TensorFlow binary is optimized to use available CPU instructions in performance-critical operations.\n",
      "To enable the following instructions: AVX2 AVX512F AVX512_VNNI FMA, in other operations, rebuild TensorFlow with the appropriate compiler flags.\n"
     ]
    }
   ],
   "source": [
    "import pandas as pd\n",
    "import tensorflow as tf\n",
    "from tensorflow.keras.utils import to_categorical\n",
    "# from transformers import BertTokenizer, TFBertModel\n",
    "# from tensorflow.keras.layers import Input, Dense, Concatenate, GlobalAveragePooling1D\n",
    "# from tensorflow.keras.models import Model\n",
    "# from tensorflow.keras.optimizers import Adam"
   ]
  },
  {
   "cell_type": "code",
   "execution_count": 2,
   "metadata": {
    "id": "hbPLgAKwLT8G"
   },
   "outputs": [],
   "source": [
    "train_file_path = 'train.tsv'\n",
    "\n",
    "# Specify the column names\n",
    "column_names = ['Id', 'Label', 'Statement', 'Subject', 'Speaker', 'Job_title', 'State_info',\n",
    "                'Party_affiliation', 'Barely_true_counts', 'False_counts', 'Half_true_counts',\n",
    "                'Mostly_true_counts', 'Pants_on_fire_counts', 'Context']\n",
    "\n",
    "# Read the TSV file into a Pandas DataFrame with specified column names\n",
    "train_df = pd.read_csv(train_file_path, sep='\\t', header=None, names=column_names)"
   ]
  },
  {
   "cell_type": "code",
   "execution_count": 3,
   "metadata": {
    "id": "dGLJ_o8yg5Tq"
   },
   "outputs": [],
   "source": [
    "val_file_path = 'valid.tsv'\n",
    "\n",
    "# Specify the column names\n",
    "column_names = ['Id', 'Label', 'Statement', 'Subject', 'Speaker', 'Job_title', 'State_info',\n",
    "                'Party_affiliation', 'Barely_true_counts', 'False_counts', 'Half_true_counts',\n",
    "                'Mostly_true_counts', 'Pants_on_fire_counts', 'Context']\n",
    "\n",
    "# Read the TSV file into a Pandas DataFrame with specified column names\n",
    "val_df = pd.read_csv(val_file_path, sep='\\t', header=None, names=column_names)"
   ]
  },
  {
   "cell_type": "code",
   "execution_count": 4,
   "metadata": {
    "id": "xp6X02Xug_h-"
   },
   "outputs": [],
   "source": [
    "test_file_path = 'test.tsv'\n",
    "\n",
    "# Specify the column names\n",
    "column_names = ['Id', 'Label', 'Statement', 'Subject', 'Speaker', 'Job_title', 'State_info',\n",
    "                'Party_affiliation', 'Barely_true_counts', 'False_counts', 'Half_true_counts',\n",
    "                'Mostly_true_counts', 'Pants_on_fire_counts', 'Context']\n",
    "\n",
    "# Read the TSV file into a Pandas DataFrame with specified column names\n",
    "test_df = pd.read_csv(test_file_path, sep='\\t', header=None, names=column_names)"
   ]
  },
  {
   "cell_type": "code",
   "execution_count": 5,
   "metadata": {
    "colab": {
     "base_uri": "https://localhost:8080/"
    },
    "id": "CGRxuF8zOy6f",
    "outputId": "9aadb1e6-2359-47f2-e377-cd77e0f6b983"
   },
   "outputs": [
    {
     "name": "stdout",
     "output_type": "stream",
     "text": [
      "Id                       object\n",
      "Label                    object\n",
      "Statement                object\n",
      "Subject                  object\n",
      "Speaker                  object\n",
      "Job_title                object\n",
      "State_info               object\n",
      "Party_affiliation        object\n",
      "Barely_true_counts      float64\n",
      "False_counts            float64\n",
      "Half_true_counts        float64\n",
      "Mostly_true_counts      float64\n",
      "Pants_on_fire_counts    float64\n",
      "Context                  object\n",
      "dtype: object\n"
     ]
    }
   ],
   "source": [
    "# Assuming df is your DataFrame\n",
    "column_data_types = train_df.dtypes\n",
    "\n",
    "# Display the data types of each column\n",
    "print(column_data_types)\n"
   ]
  },
  {
   "cell_type": "code",
   "execution_count": 6,
   "metadata": {
    "colab": {
     "base_uri": "https://localhost:8080/"
    },
    "id": "meVIGupTvCFO",
    "outputId": "32d668d3-f173-42dd-c892-0e3b525378d8"
   },
   "outputs": [
    {
     "name": "stdout",
     "output_type": "stream",
     "text": [
      "Id                         0\n",
      "Label                      0\n",
      "Statement                  0\n",
      "Subject                    0\n",
      "Speaker                    0\n",
      "Job_title               2896\n",
      "State_info              2208\n",
      "Party_affiliation          0\n",
      "Barely_true_counts         0\n",
      "False_counts               0\n",
      "Half_true_counts           0\n",
      "Mostly_true_counts         0\n",
      "Pants_on_fire_counts       0\n",
      "Context                  100\n",
      "dtype: int64\n"
     ]
    }
   ],
   "source": [
    "columns_to_check = ['Barely_true_counts', 'False_counts', 'Half_true_counts', 'Mostly_true_counts', 'Pants_on_fire_counts']\n",
    "train_df = train_df.dropna(subset=columns_to_check)\n",
    "val_df = val_df.dropna(subset=columns_to_check)\n",
    "test_df = test_df.dropna(subset=columns_to_check)\n",
    "\n",
    "# Display the updated DataFrame\n",
    "print(train_df.isna().sum())"
   ]
  },
  {
   "cell_type": "code",
   "execution_count": 7,
   "metadata": {
    "id": "cE-pc72YN3de"
   },
   "outputs": [],
   "source": [
    "train_labels= train_df['Label'].values\n",
    "val_labels= val_df['Label'].values\n",
    "test_labels= test_df['Label'].values"
   ]
  },
  {
   "cell_type": "code",
   "execution_count": 8,
   "metadata": {
    "id": "2RA8TLL_OFtI"
   },
   "outputs": [],
   "source": [
    "class_labels = {'pants-fire': 0,'false': 1, 'barely-true': 2, 'half-true': 3, 'mostly-true': 4, 'true': 5}"
   ]
  },
  {
   "cell_type": "code",
   "execution_count": 9,
   "metadata": {
    "id": "a7gYkc2cOK3O"
   },
   "outputs": [],
   "source": [
    "# Convert integers to one-hot encoded categorical labels\n",
    "encoded_labels = [class_labels[label] for label in train_labels]\n",
    "train_cat_labels = to_categorical(encoded_labels, num_classes=6)"
   ]
  },
  {
   "cell_type": "code",
   "execution_count": 10,
   "metadata": {
    "id": "Ln5vcvT4OQns"
   },
   "outputs": [],
   "source": [
    "encoded_labels = [class_labels[label] for label in val_labels]\n",
    "val_cat_labels = to_categorical(encoded_labels, num_classes=6)"
   ]
  },
  {
   "cell_type": "code",
   "execution_count": 11,
   "metadata": {
    "id": "22MusDGCOUkN"
   },
   "outputs": [],
   "source": [
    "encoded_labels = [class_labels[label] for label in test_labels]\n",
    "test_cat_labels = to_categorical(encoded_labels, num_classes=6)"
   ]
  },
  {
   "cell_type": "markdown",
   "metadata": {
    "id": "yTpWncZvglMN"
   },
   "source": [
    "#Trial 1\n",
    "\n",
    "Use only statement"
   ]
  },
  {
   "cell_type": "code",
   "execution_count": null,
   "metadata": {
    "colab": {
     "base_uri": "https://localhost:8080/",
     "height": 284,
     "referenced_widgets": [
      "0d58373ee48f4e5c8575e0b67483057f",
      "c140a6ad290a4d34bdfd98596af2604e",
      "bff9b3dcde01485cb18079f973265e14",
      "06d06f925794444ab642441d090d9244",
      "d289fd28e796419bae3a45f6c49b7d46",
      "fef98eecd7944a9a8c89ce4fed60b843",
      "4dff59f1892446a095a6254dcad98e24",
      "b6ffbe89b0704afda1687f3bfd6d31af",
      "8f739dcaf4244250956013cfb86bfa5e",
      "7bc859d5859f401da5686a4dacdfaeb0",
      "31c6f4d795b0407e9115785392536676",
      "7e5e34630a524be892e419a9510e8f6a",
      "f3d502601d0c433db39b5aa9c7ee9d0d",
      "8dad35b536dd474dbc962000a67d6b6a",
      "28740e18ced24393b7f2e6e8699cae77",
      "9d715803bef34b51a06539154ed095e1",
      "0a4114654cab4cb586c3a219bb1664e4",
      "0ade76ec5c6b46a386721be90ca66ff2",
      "01012429bdf54d219186ef57f5b7b657",
      "0a9a3b260b0b467e8898ead8224cbfb9",
      "7a96dc5ec85144b9ba7799fce00a951e",
      "fb99abf8d73a49cabff8fb166632675d",
      "5522d2c07233481e8bff89cb7bf66151",
      "22ed0aeb818245bb8c4d78a1542e579e",
      "582df62da81241c0810e9a1b0bbb504d",
      "4a2de396d343479aafe16f2b1f749c5f",
      "455b1115bccd45bf8341850ff0bb6770",
      "d14359d8aa944b8591cdfc39bf5e148a",
      "f371822d670e4ab2968139edd63c6244",
      "406a065a73874e008810b24610b0d3ad",
      "858a84b168454321a84f4f352c1a3119",
      "09613552ed474b24a74a39ed93654f80",
      "9c16669825c4441d8eb370cc13b128f7",
      "ca63e3a15eab42a980c9c814379bccfb",
      "f4ce7011a692463aa5ce1bdfc8ecbb79",
      "0de950aa523b495db3a6d5584d661883",
      "1acc218b13d84fdf9ce87bb414a72c95",
      "7ae08bf63f704b9bbed47b195833e243",
      "efaedccee5b44d4cb392842b57deb12d",
      "a9d3e091dfb94f72b78a73767fa26de3",
      "3faff3fb88b647ef898fddd1776e6822",
      "41ee16ac14624916a1d322064463c7ef",
      "fd4b44a4c76547029cf59f9cc21c7148",
      "3bc2eb0120be402797463cb09c905f3d",
      "3b260a5f44454bb2beb5baf2f84bce7e",
      "0ada0fdb9a004b2badd2b8da8ca7c2bf",
      "25a15b31d8cd4b659284020915e955b0",
      "5886811386ab479ca92ca46135c6394b",
      "16c8750500df4dfab2b7c22e1ded5f3c",
      "e37708804a884359b58c6a23a8a421fb",
      "b92923a7888b459b88ac006c5d9413c2",
      "c81cedfe1141474eb6e176e174828558",
      "8c26c4ce79764dde94cb06dbb77ed5e9",
      "d19b95dc017e4d5dacb15a1431467cbc",
      "3754c52f885e46e7b8821dd41e3772c4",
      "329490ce34a146fa80c965a6dd4114a9",
      "9f62ced200774a36b3b67cd89884f3a0",
      "5359752d767f4b9da5f42973cf20644d",
      "7eacfbc4971049c1b59bac56271d9043",
      "e08006935d664b0aa22660eebedb24dd"
     ]
    },
    "id": "WLZOfZ2xhQ35",
    "outputId": "69cb847e-8895-48d8-e67b-9b29a84a2dfe"
   },
   "outputs": [
    {
     "data": {
      "application/vnd.jupyter.widget-view+json": {
       "model_id": "329490ce34a146fa80c965a6dd4114a9",
       "version_major": 2,
       "version_minor": 0
      },
      "text/plain": [
       "tokenizer_config.json:   0%|          | 0.00/28.0 [00:00<?, ?B/s]"
      ]
     },
     "metadata": {},
     "output_type": "display_data"
    },
    {
     "data": {
      "application/vnd.jupyter.widget-view+json": {
       "model_id": "9f62ced200774a36b3b67cd89884f3a0",
       "version_major": 2,
       "version_minor": 0
      },
      "text/plain": [
       "vocab.txt:   0%|          | 0.00/232k [00:00<?, ?B/s]"
      ]
     },
     "metadata": {},
     "output_type": "display_data"
    },
    {
     "data": {
      "application/vnd.jupyter.widget-view+json": {
       "model_id": "5359752d767f4b9da5f42973cf20644d",
       "version_major": 2,
       "version_minor": 0
      },
      "text/plain": [
       "tokenizer.json:   0%|          | 0.00/466k [00:00<?, ?B/s]"
      ]
     },
     "metadata": {},
     "output_type": "display_data"
    },
    {
     "data": {
      "application/vnd.jupyter.widget-view+json": {
       "model_id": "7eacfbc4971049c1b59bac56271d9043",
       "version_major": 2,
       "version_minor": 0
      },
      "text/plain": [
       "config.json:   0%|          | 0.00/570 [00:00<?, ?B/s]"
      ]
     },
     "metadata": {},
     "output_type": "display_data"
    },
    {
     "data": {
      "application/vnd.jupyter.widget-view+json": {
       "model_id": "e08006935d664b0aa22660eebedb24dd",
       "version_major": 2,
       "version_minor": 0
      },
      "text/plain": [
       "model.safetensors:   0%|          | 0.00/440M [00:00<?, ?B/s]"
      ]
     },
     "metadata": {},
     "output_type": "display_data"
    },
    {
     "name": "stderr",
     "output_type": "stream",
     "text": [
      "2023-11-29 11:40:11.060201: I tensorflow/core/common_runtime/gpu/gpu_device.cc:1886] Created device /job:localhost/replica:0/task:0/device:GPU:0 with 38374 MB memory:  -> device: 0, name: NVIDIA A100-PCIE-40GB, pci bus id: 0000:1e:00.0, compute capability: 8.0\n",
      "2023-11-29 11:40:13.109314: I tensorflow/tsl/platform/default/subprocess.cc:304] Start cannot spawn child process: No such file or directory\n",
      "Some weights of the PyTorch model were not used when initializing the TF 2.0 model TFBertModel: ['cls.predictions.transform.LayerNorm.bias', 'cls.predictions.transform.dense.bias', 'cls.predictions.transform.dense.weight', 'cls.seq_relationship.bias', 'cls.seq_relationship.weight', 'cls.predictions.bias', 'cls.predictions.transform.LayerNorm.weight']\n",
      "- This IS expected if you are initializing TFBertModel from a PyTorch model trained on another task or with another architecture (e.g. initializing a TFBertForSequenceClassification model from a BertForPreTraining model).\n",
      "- This IS NOT expected if you are initializing TFBertModel from a PyTorch model that you expect to be exactly identical (e.g. initializing a TFBertForSequenceClassification model from a BertForSequenceClassification model).\n",
      "All the weights of TFBertModel were initialized from the PyTorch model.\n",
      "If your task is similar to the task the model of the checkpoint was trained on, you can already use TFBertModel for predictions without further training.\n"
     ]
    }
   ],
   "source": [
    "# Load BERT tokenizer and model\n",
    "tokenizer = BertTokenizer.from_pretrained('bert-base-uncased')\n",
    "bert_model = TFBertModel.from_pretrained('bert-base-uncased')"
   ]
  },
  {
   "cell_type": "code",
   "execution_count": null,
   "metadata": {
    "id": "cJMW6L9pheKY"
   },
   "outputs": [],
   "source": [
    "statement_len=[]\n",
    "for i in train_df['Statement']:\n",
    "  if len(i)<500:\n",
    "    statement_len.append(len(i))"
   ]
  },
  {
   "cell_type": "code",
   "execution_count": null,
   "metadata": {
    "colab": {
     "base_uri": "https://localhost:8080/"
    },
    "id": "p7cPlWQOiSYb",
    "outputId": "d90cd557-02a8-452b-d7bc-5626961c0e42"
   },
   "outputs": [
    {
     "name": "stdout",
     "output_type": "stream",
     "text": [
      "10236\n"
     ]
    }
   ],
   "source": [
    "print(len(statement_len))"
   ]
  },
  {
   "cell_type": "code",
   "execution_count": null,
   "metadata": {
    "colab": {
     "base_uri": "https://localhost:8080/",
     "height": 430
    },
    "id": "ewF0XUHbhemU",
    "outputId": "91317786-9be1-4cf5-8b18-f241a3457a1f"
   },
   "outputs": [
    {
     "data": {
      "image/png": "[encoded data removed]",
      "text/plain": [
       "<Figure size 640x480 with 1 Axes>"
      ]
     },
     "metadata": {},
     "output_type": "display_data"
    }
   ],
   "source": [
    "import matplotlib.pyplot as plt\n",
    "\n",
    "plt.hist(statement_len, 30)\n",
    "plt.show()"
   ]
  },
  {
   "cell_type": "code",
   "execution_count": null,
   "metadata": {
    "id": "cfo9Orpthepi"
   },
   "outputs": [],
   "source": [
    "max_len= 160"
   ]
  },
  {
   "cell_type": "code",
   "execution_count": null,
   "metadata": {
    "id": "Dj1Z39gzhese"
   },
   "outputs": [],
   "source": [
    "train_texts = train_df['Statement'].values\n",
    "val_texts = val_df['Statement'].values\n",
    "test_texts = test_df['Statement'].values\n",
    "# Tokenize and pad the input sequences\n",
    "train_tokenized_inputs = tokenizer(train_texts.tolist(), padding=True, truncation=True, max_length=max_len, return_tensors=\"tf\")\n",
    "val_tokenized_inputs = tokenizer(val_texts.tolist(), padding=True, truncation=True, max_length=max_len, return_tensors=\"tf\")\n",
    "test_tokenized_inputs = tokenizer(test_texts.tolist(), padding= True, truncation=True, max_length=max_len, return_tensors=\"tf\")"
   ]
  },
  {
   "cell_type": "code",
   "execution_count": null,
   "metadata": {
    "colab": {
     "base_uri": "https://localhost:8080/"
    },
    "id": "6EoRbJFDnOuY",
    "outputId": "39a89c42-feb5-46a9-865c-9607954fb245"
   },
   "outputs": [
    {
     "data": {
      "text/plain": [
       "{'input_ids': <tf.Tensor: shape=(10240, 160), dtype=int32, numpy=\n",
       "array([[  101,  2758,  1996, ...,     0,     0,     0],\n",
       "       [  101,  2043,  2106, ...,     0,     0,     0],\n",
       "       [  101, 18520,  7207, ...,     0,     0,     0],\n",
       "       ...,\n",
       "       [  101,  2758,  2019, ...,     0,     0,     0],\n",
       "       [  101,  2006,  8783, ...,     0,     0,     0],\n",
       "       [  101,  1996,  2533, ...,     0,     0,     0]], dtype=int32)>, 'token_type_ids': <tf.Tensor: shape=(10240, 160), dtype=int32, numpy=\n",
       "array([[0, 0, 0, ..., 0, 0, 0],\n",
       "       [0, 0, 0, ..., 0, 0, 0],\n",
       "       [0, 0, 0, ..., 0, 0, 0],\n",
       "       ...,\n",
       "       [0, 0, 0, ..., 0, 0, 0],\n",
       "       [0, 0, 0, ..., 0, 0, 0],\n",
       "       [0, 0, 0, ..., 0, 0, 0]], dtype=int32)>, 'attention_mask': <tf.Tensor: shape=(10240, 160), dtype=int32, numpy=\n",
       "array([[1, 1, 1, ..., 0, 0, 0],\n",
       "       [1, 1, 1, ..., 0, 0, 0],\n",
       "       [1, 1, 1, ..., 0, 0, 0],\n",
       "       ...,\n",
       "       [1, 1, 1, ..., 0, 0, 0],\n",
       "       [1, 1, 1, ..., 0, 0, 0],\n",
       "       [1, 1, 1, ..., 0, 0, 0]], dtype=int32)>}"
      ]
     },
     "execution_count": 27,
     "metadata": {},
     "output_type": "execute_result"
    }
   ],
   "source": [
    "train_tokenized_inputs"
   ]
  },
  {
   "cell_type": "code",
   "execution_count": null,
   "metadata": {
    "id": "UUy-mhxG_JCb"
   },
   "outputs": [],
   "source": [
    "# Define callbacks\n",
    "from tensorflow.keras.callbacks import EarlyStopping\n",
    "import matplotlib.pyplot as plt"
   ]
  },
  {
   "cell_type": "code",
   "execution_count": null,
   "metadata": {
    "id": "GL77-Ljz_hRr"
   },
   "outputs": [],
   "source": [
    "class MyBERTModel(Model):\n",
    "    def __init__(self):\n",
    "        super(MyBERTModel, self).__init__()\n",
    "        self.bert_model = bert_model  # Assuming you have a pre-defined bert_model\n",
    "\n",
    "        # Add your custom layers here\n",
    "        self.global_avg_pooling = GlobalAveragePooling1D()\n",
    "        self.dense1 = Dense(128, activation='sigmoid')\n",
    "        self.dense2 = Dense(64, activation='sigmoid')\n",
    "        self.dense3 = Dense(6, activation='softmax')\n",
    "        self.bert_model.trainable = False\n",
    "\n",
    "    def call(self, inputs):\n",
    "        outputs = self.bert_model(inputs)[\"last_hidden_state\"]\n",
    "        pooled_output = self.global_avg_pooling(outputs)\n",
    "        den = self.dense1(pooled_output)\n",
    "        den = self.dense2(den)\n",
    "        out = self.dense3(den)\n",
    "        return out\n",
    "\n",
    "# Create an instance of the model\n",
    "model = MyBERTModel()\n",
    "\n",
    "# Compile the model\n",
    "model.compile(optimizer=Adam(learning_rate=0.01),\n",
    "              loss=tf.keras.losses.CategoricalCrossentropy(),\n",
    "              metrics=['accuracy'])\n",
    "\n",
    "#Callbacks\n",
    "early_stopping = EarlyStopping(monitor='val_loss', patience=5, mode='min', verbose=1)"
   ]
  },
  {
   "cell_type": "code",
   "execution_count": null,
   "metadata": {
    "colab": {
     "base_uri": "https://localhost:8080/"
    },
    "id": "FDUWnLIpmjOw",
    "outputId": "d9730ac9-3f40-4cc9-a5a2-b21c64dd8169"
   },
   "outputs": [
    {
     "name": "stdout",
     "output_type": "stream",
     "text": [
      "Epoch 1/20\n"
     ]
    },
    {
     "name": "stderr",
     "output_type": "stream",
     "text": [
      "2023-11-29 11:40:40.658690: I tensorflow/compiler/xla/service/service.cc:168] XLA service 0x7efe80a74a50 initialized for platform CUDA (this does not guarantee that XLA will be used). Devices:\n",
      "2023-11-29 11:40:40.658713: I tensorflow/compiler/xla/service/service.cc:176]   StreamExecutor device (0): NVIDIA A100-PCIE-40GB, Compute Capability 8.0\n",
      "2023-11-29 11:40:40.664754: I tensorflow/compiler/mlir/tensorflow/utils/dump_mlir_util.cc:269] disabling MLIR crash reproducer, set env var `MLIR_CRASH_REPRODUCER_DIRECTORY` to enable.\n",
      "2023-11-29 11:40:41.605904: I tensorflow/compiler/xla/stream_executor/cuda/cuda_dnn.cc:442] Loaded cuDNN version 8700\n",
      "2023-11-29 11:40:41.730504: I ./tensorflow/compiler/jit/device_compiler.h:186] Compiled cluster using XLA!  This line is logged at most once for the lifetime of the process.\n"
     ]
    },
    {
     "name": "stdout",
     "output_type": "stream",
     "text": [
      "320/320 [==============================] - 40s 92ms/step - loss: 1.7745 - accuracy: 0.1968 - val_loss: 1.7657 - val_accuracy: 0.1924\n",
      "Epoch 2/20\n",
      "320/320 [==============================] - 27s 85ms/step - loss: 1.7639 - accuracy: 0.2015 - val_loss: 1.7639 - val_accuracy: 0.2048\n",
      "Epoch 3/20\n",
      "320/320 [==============================] - 27s 85ms/step - loss: 1.7658 - accuracy: 0.1896 - val_loss: 1.7703 - val_accuracy: 0.2048\n",
      "Epoch 4/20\n",
      "320/320 [==============================] - 28s 86ms/step - loss: 1.7629 - accuracy: 0.2021 - val_loss: 1.7644 - val_accuracy: 0.1931\n",
      "Epoch 5/20\n",
      "320/320 [==============================] - 28s 87ms/step - loss: 1.7624 - accuracy: 0.2040 - val_loss: 1.7711 - val_accuracy: 0.1916\n",
      "Epoch 6/20\n",
      "320/320 [==============================] - 28s 88ms/step - loss: 1.7624 - accuracy: 0.1926 - val_loss: 1.7634 - val_accuracy: 0.2048\n",
      "Epoch 7/20\n",
      "320/320 [==============================] - 30s 93ms/step - loss: 1.7626 - accuracy: 0.1986 - val_loss: 1.7679 - val_accuracy: 0.1955\n",
      "Epoch 8/20\n",
      "320/320 [==============================] - 30s 95ms/step - loss: 1.7626 - accuracy: 0.2009 - val_loss: 1.7739 - val_accuracy: 0.1316\n",
      "Epoch 9/20\n",
      "320/320 [==============================] - 31s 97ms/step - loss: 1.7633 - accuracy: 0.1933 - val_loss: 1.7626 - val_accuracy: 0.1877\n",
      "Epoch 10/20\n",
      "320/320 [==============================] - 31s 98ms/step - loss: 1.7632 - accuracy: 0.2015 - val_loss: 1.7645 - val_accuracy: 0.1916\n",
      "Epoch 11/20\n",
      "320/320 [==============================] - 31s 98ms/step - loss: 1.7635 - accuracy: 0.1914 - val_loss: 1.7710 - val_accuracy: 0.2048\n",
      "Epoch 12/20\n",
      "320/320 [==============================] - 31s 98ms/step - loss: 1.7623 - accuracy: 0.1995 - val_loss: 1.7674 - val_accuracy: 0.1939\n",
      "Epoch 13/20\n",
      "320/320 [==============================] - 32s 99ms/step - loss: 1.7627 - accuracy: 0.2009 - val_loss: 1.7767 - val_accuracy: 0.1893\n",
      "Epoch 14/20\n",
      "320/320 [==============================] - 32s 99ms/step - loss: 1.7628 - accuracy: 0.1972 - val_loss: 1.7753 - val_accuracy: 0.1877\n",
      "Epoch 15/20\n",
      "320/320 [==============================] - 32s 99ms/step - loss: 1.7629 - accuracy: 0.1969 - val_loss: 1.7689 - val_accuracy: 0.2056\n",
      "Epoch 16/20\n",
      "320/320 [==============================] - 32s 100ms/step - loss: 1.7638 - accuracy: 0.1907 - val_loss: 1.7722 - val_accuracy: 0.2048\n",
      "Epoch 17/20\n",
      "320/320 [==============================] - 32s 99ms/step - loss: 1.7632 - accuracy: 0.1953 - val_loss: 1.7675 - val_accuracy: 0.1955\n",
      "Epoch 18/20\n",
      "320/320 [==============================] - 32s 99ms/step - loss: 1.7641 - accuracy: 0.1896 - val_loss: 1.7668 - val_accuracy: 0.2048\n",
      "Epoch 19/20\n",
      "320/320 [==============================] - 32s 99ms/step - loss: 1.7648 - accuracy: 0.1950 - val_loss: 1.7694 - val_accuracy: 0.1846\n",
      "Epoch 19: early stopping\n"
     ]
    }
   ],
   "source": [
    "# Fit the model\n",
    "history= model.fit(train_tokenized_inputs['input_ids'], train_cat_labels, epochs=20, validation_data=(val_tokenized_inputs['input_ids'], val_cat_labels), callbacks=[early_stopping])\n"
   ]
  },
  {
   "cell_type": "code",
   "execution_count": null,
   "metadata": {
    "colab": {
     "base_uri": "https://localhost:8080/",
     "height": 921
    },
    "id": "BdCpwh7oACkx",
    "outputId": "1ce7bd21-20f9-4964-ff76-9063bfa3a683"
   },
   "outputs": [
    {
     "name": "stdout",
     "output_type": "stream",
     "text": [
      "40/40 [==============================] - 6s 92ms/step - loss: 1.7630 - accuracy: 0.1681\n",
      "Test Loss: 1.7630407810211182, Test Accuracy: 0.16811364889144897\n"
     ]
    },
    {
     "data": {
      "image/png": "[encoded data removed]",
      "text/plain": [
       "<Figure size 640x480 with 1 Axes>"
      ]
     },
     "metadata": {},
     "output_type": "display_data"
    },
    {
     "data": {
      "image/png": "[encoded data removed]",
      "text/plain": [
       "<Figure size 640x480 with 1 Axes>"
      ]
     },
     "metadata": {},
     "output_type": "display_data"
    }
   ],
   "source": [
    "# Evaluate the model on the test set\n",
    "test_loss, test_accuracy = model.evaluate(test_tokenized_inputs['input_ids'], test_cat_labels)\n",
    "print(f'Test Loss: {test_loss}, Test Accuracy: {test_accuracy}')\n",
    "\n",
    "# Plot training history\n",
    "plt.plot(history.history['accuracy'], label='Training Accuracy')\n",
    "plt.plot(history.history['val_accuracy'], label='Validation Accuracy')\n",
    "plt.xlabel('Epoch')\n",
    "plt.ylabel('Accuracy')\n",
    "plt.legend()\n",
    "plt.show()\n",
    "\n",
    "plt.plot(history.history['loss'], label='Training Loss')\n",
    "plt.plot(history.history['val_loss'], label='Validation Loss')\n",
    "plt.xlabel('Epoch')\n",
    "plt.ylabel('Loss')\n",
    "plt.legend()\n",
    "plt.show()"
   ]
  },
  {
   "cell_type": "markdown",
   "metadata": {
    "id": "9mHiMPeBA_1l"
   },
   "source": [
    "Smaller dense network"
   ]
  },
  {
   "cell_type": "code",
   "execution_count": null,
   "metadata": {
    "id": "9pXMc-xHA_O_",
    "outputId": "dcad129e-2451-4342-9c25-f830d8c95b3e"
   },
   "outputs": [
    {
     "name": "stderr",
     "output_type": "stream",
     "text": [
      "Some weights of the PyTorch model were not used when initializing the TF 2.0 model TFBertModel: ['cls.predictions.transform.LayerNorm.bias', 'cls.predictions.transform.dense.bias', 'cls.predictions.transform.dense.weight', 'cls.seq_relationship.bias', 'cls.seq_relationship.weight', 'cls.predictions.bias', 'cls.predictions.transform.LayerNorm.weight']\n",
      "- This IS expected if you are initializing TFBertModel from a PyTorch model trained on another task or with another architecture (e.g. initializing a TFBertForSequenceClassification model from a BertForPreTraining model).\n",
      "- This IS NOT expected if you are initializing TFBertModel from a PyTorch model that you expect to be exactly identical (e.g. initializing a TFBertForSequenceClassification model from a BertForSequenceClassification model).\n",
      "All the weights of TFBertModel were initialized from the PyTorch model.\n",
      "If your task is similar to the task the model of the checkpoint was trained on, you can already use TFBertModel for predictions without further training.\n"
     ]
    }
   ],
   "source": [
    "bert_model = TFBertModel.from_pretrained('bert-base-uncased')\n",
    "class MyBERTModel(Model):\n",
    "    def __init__(self):\n",
    "        super(MyBERTModel, self).__init__()\n",
    "        self.bert_model = bert_model  # Assuming you have a pre-defined bert_model\n",
    "\n",
    "        # Add your custom layers here\n",
    "        self.global_avg_pooling = GlobalAveragePooling1D()\n",
    "        self.dense1 = Dense(64, activation='sigmoid')\n",
    "        self.dense2 = Dense(6, activation='softmax')\n",
    "        self.bert_model.trainable = False\n",
    "\n",
    "    def call(self, inputs):\n",
    "        outputs = self.bert_model(inputs)[\"last_hidden_state\"]\n",
    "        pooled_output = self.global_avg_pooling(outputs)\n",
    "        den = self.dense1(pooled_output)\n",
    "        out = self.dense2(den)\n",
    "        return out\n",
    "\n",
    "# Create an instance of the model\n",
    "model = MyBERTModel()\n",
    "\n",
    "# Compile the model\n",
    "model.compile(optimizer=Adam(learning_rate=0.01),\n",
    "              loss=tf.keras.losses.CategoricalCrossentropy(),\n",
    "              metrics=['accuracy'])\n",
    "\n",
    "#Callbacks\n",
    "early_stopping = EarlyStopping(monitor='val_loss', patience=10, mode='min', verbose=1)"
   ]
  },
  {
   "cell_type": "code",
   "execution_count": null,
   "metadata": {
    "id": "wejtcv1qBSKj",
    "outputId": "d059b8b1-31c4-4bbc-cb40-748f847a65a2"
   },
   "outputs": [
    {
     "name": "stdout",
     "output_type": "stream",
     "text": [
      "Epoch 1/20\n",
      "320/320 [==============================] - 36s 98ms/step - loss: 1.7940 - accuracy: 0.1937 - val_loss: 1.8288 - val_accuracy: 0.1931\n",
      "Epoch 2/20\n",
      "320/320 [==============================] - 31s 96ms/step - loss: 1.7809 - accuracy: 0.1917 - val_loss: 1.7959 - val_accuracy: 0.1908\n",
      "Epoch 3/20\n",
      "320/320 [==============================] - 31s 98ms/step - loss: 1.7796 - accuracy: 0.2010 - val_loss: 1.7765 - val_accuracy: 0.1830\n",
      "Epoch 4/20\n",
      "320/320 [==============================] - 32s 99ms/step - loss: 1.7813 - accuracy: 0.2000 - val_loss: 1.7795 - val_accuracy: 0.1908\n",
      "Epoch 5/20\n",
      "320/320 [==============================] - 32s 100ms/step - loss: 1.7765 - accuracy: 0.1937 - val_loss: 1.8128 - val_accuracy: 0.1908\n",
      "Epoch 6/20\n",
      "320/320 [==============================] - 32s 99ms/step - loss: 1.7768 - accuracy: 0.1979 - val_loss: 1.7781 - val_accuracy: 0.2072\n",
      "Epoch 7/20\n",
      "320/320 [==============================] - 32s 100ms/step - loss: 1.7803 - accuracy: 0.1897 - val_loss: 1.7662 - val_accuracy: 0.1861\n",
      "Epoch 8/20\n",
      "320/320 [==============================] - 32s 99ms/step - loss: 1.7781 - accuracy: 0.1948 - val_loss: 1.7888 - val_accuracy: 0.2056\n",
      "Epoch 9/20\n",
      "320/320 [==============================] - 32s 99ms/step - loss: 1.7830 - accuracy: 0.1873 - val_loss: 1.8437 - val_accuracy: 0.1900\n",
      "Epoch 10/20\n",
      "320/320 [==============================] - 32s 99ms/step - loss: 1.7852 - accuracy: 0.1950 - val_loss: 1.7972 - val_accuracy: 0.1799\n",
      "Epoch 11/20\n",
      "320/320 [==============================] - 32s 100ms/step - loss: 1.7840 - accuracy: 0.1933 - val_loss: 1.7936 - val_accuracy: 0.1854\n",
      "Epoch 12/20\n",
      "320/320 [==============================] - 32s 99ms/step - loss: 1.7798 - accuracy: 0.1947 - val_loss: 1.7869 - val_accuracy: 0.1916\n",
      "Epoch 13/20\n",
      "320/320 [==============================] - 32s 99ms/step - loss: 1.7770 - accuracy: 0.1969 - val_loss: 1.7817 - val_accuracy: 0.1869\n",
      "Epoch 14/20\n",
      "320/320 [==============================] - 32s 101ms/step - loss: 1.7777 - accuracy: 0.1978 - val_loss: 1.7711 - val_accuracy: 0.1869\n",
      "Epoch 15/20\n",
      "320/320 [==============================] - 32s 98ms/step - loss: 1.7812 - accuracy: 0.1930 - val_loss: 1.7838 - val_accuracy: 0.2048\n",
      "Epoch 16/20\n",
      "320/320 [==============================] - 32s 100ms/step - loss: 1.7787 - accuracy: 0.1932 - val_loss: 1.7940 - val_accuracy: 0.1900\n",
      "Epoch 17/20\n",
      "320/320 [==============================] - 32s 100ms/step - loss: 1.7834 - accuracy: 0.1892 - val_loss: 1.8038 - val_accuracy: 0.2056\n",
      "Epoch 17: early stopping\n"
     ]
    }
   ],
   "source": [
    "# Fit the model\n",
    "history= model.fit(train_tokenized_inputs['input_ids'], train_cat_labels, epochs=20, validation_data=(val_tokenized_inputs['input_ids'], val_cat_labels), callbacks=[early_stopping])"
   ]
  },
  {
   "cell_type": "code",
   "execution_count": null,
   "metadata": {
    "id": "xK3-GogbBVNb",
    "outputId": "65e3dbde-205c-4d0a-e974-78a343da7725"
   },
   "outputs": [
    {
     "name": "stdout",
     "output_type": "stream",
     "text": [
      "40/40 [==============================] - 6s 91ms/step - loss: 1.7773 - accuracy: 0.1973\n",
      "Test Loss: 1.7773480415344238, Test Accuracy: 0.1973164975643158\n"
     ]
    },
    {
     "data": {
      "image/png": "[encoded data removed]",
      "text/plain": [
       "<Figure size 640x480 with 1 Axes>"
      ]
     },
     "metadata": {},
     "output_type": "display_data"
    },
    {
     "data": {
      "image/png": "[encoded data removed]",
      "text/plain": [
       "<Figure size 640x480 with 1 Axes>"
      ]
     },
     "metadata": {},
     "output_type": "display_data"
    }
   ],
   "source": [
    "# Evaluate the model on the test set\n",
    "test_loss, test_accuracy = model.evaluate(test_tokenized_inputs['input_ids'], test_cat_labels)\n",
    "print(f'Test Loss: {test_loss}, Test Accuracy: {test_accuracy}')\n",
    "\n",
    "# Plot training history\n",
    "plt.plot(history.history['accuracy'], label='Training Accuracy')\n",
    "plt.plot(history.history['val_accuracy'], label='Validation Accuracy')\n",
    "plt.xlabel('Epoch')\n",
    "plt.ylabel('Accuracy')\n",
    "plt.legend()\n",
    "plt.show()\n",
    "\n",
    "plt.plot(history.history['loss'], label='Training Loss')\n",
    "plt.plot(history.history['val_loss'], label='Validation Loss')\n",
    "plt.xlabel('Epoch')\n",
    "plt.ylabel('Loss')\n",
    "plt.legend()\n",
    "plt.show()"
   ]
  },
  {
   "cell_type": "markdown",
   "metadata": {
    "id": "gABWj2FOAXcf"
   },
   "source": [
    "UnFrozen Architecture, slow learning"
   ]
  },
  {
   "cell_type": "code",
   "execution_count": null,
   "metadata": {
    "colab": {
     "base_uri": "https://localhost:8080/"
    },
    "id": "b3nIksSp1MSd",
    "outputId": "eae978b9-dcb0-44d8-a98a-085352be5830"
   },
   "outputs": [
    {
     "name": "stderr",
     "output_type": "stream",
     "text": [
      "Some weights of the PyTorch model were not used when initializing the TF 2.0 model TFBertModel: ['cls.predictions.transform.LayerNorm.bias', 'cls.predictions.transform.dense.bias', 'cls.predictions.transform.dense.weight', 'cls.seq_relationship.bias', 'cls.seq_relationship.weight', 'cls.predictions.bias', 'cls.predictions.transform.LayerNorm.weight']\n",
      "- This IS expected if you are initializing TFBertModel from a PyTorch model trained on another task or with another architecture (e.g. initializing a TFBertForSequenceClassification model from a BertForPreTraining model).\n",
      "- This IS NOT expected if you are initializing TFBertModel from a PyTorch model that you expect to be exactly identical (e.g. initializing a TFBertForSequenceClassification model from a BertForSequenceClassification model).\n",
      "All the weights of TFBertModel were initialized from the PyTorch model.\n",
      "If your task is similar to the task the model of the checkpoint was trained on, you can already use TFBertModel for predictions without further training.\n"
     ]
    }
   ],
   "source": [
    "bert_model = TFBertModel.from_pretrained('bert-base-uncased')\n",
    "class MyBERTModel(Model):\n",
    "    def __init__(self):\n",
    "        super(MyBERTModel, self).__init__()\n",
    "        self.bert_model = bert_model  # Assuming you have a pre-defined bert_model\n",
    "\n",
    "        # Add your custom layers here\n",
    "        self.global_avg_pooling = GlobalAveragePooling1D()\n",
    "        self.dense1 = Dense(128, activation='sigmoid')\n",
    "        self.dense2 = Dense(64,  activation='sigmoid')\n",
    "        self.dense3 = Dense(6, activation='softmax')\n",
    "\n",
    "    def call(self, inputs):\n",
    "        outputs = self.bert_model(inputs)[\"last_hidden_state\"]\n",
    "        pooled_output = self.global_avg_pooling(outputs)\n",
    "        den = self.dense1(pooled_output)\n",
    "        den = self.dense2(den)\n",
    "        out = self.dense3(den)\n",
    "        return out\n",
    "\n",
    "# Create an instance of the model\n",
    "model = MyBERTModel()\n",
    "\n",
    "# Compile the model\n",
    "model.compile(optimizer=Adam(learning_rate=2e-5),\n",
    "              loss=tf.keras.losses.CategoricalCrossentropy(),\n",
    "              metrics=['accuracy'])\n",
    "\n",
    "#Callbacks\n",
    "early_stopping = EarlyStopping(monitor='val_loss', patience=10, mode='min', verbose=1)"
   ]
  },
  {
   "cell_type": "code",
   "execution_count": null,
   "metadata": {
    "id": "lrTooFYXBgiF",
    "outputId": "546e37a6-0180-479b-e8e3-a54860441328"
   },
   "outputs": [
    {
     "name": "stdout",
     "output_type": "stream",
     "text": [
      "Epoch 1/20\n",
      "WARNING:tensorflow:Gradients do not exist for variables ['tf_bert_model_2/bert/pooler/dense/kernel:0', 'tf_bert_model_2/bert/pooler/dense/bias:0'] when minimizing the loss. If you're using `model.compile()`, did you forget to provide a `loss` argument?\n",
      "WARNING:tensorflow:Gradients do not exist for variables ['tf_bert_model_2/bert/pooler/dense/kernel:0', 'tf_bert_model_2/bert/pooler/dense/bias:0'] when minimizing the loss. If you're using `model.compile()`, did you forget to provide a `loss` argument?\n",
      "WARNING:tensorflow:Gradients do not exist for variables ['tf_bert_model_2/bert/pooler/dense/kernel:0', 'tf_bert_model_2/bert/pooler/dense/bias:0'] when minimizing the loss. If you're using `model.compile()`, did you forget to provide a `loss` argument?\n",
      "WARNING:tensorflow:Gradients do not exist for variables ['tf_bert_model_2/bert/pooler/dense/kernel:0', 'tf_bert_model_2/bert/pooler/dense/bias:0'] when minimizing the loss. If you're using `model.compile()`, did you forget to provide a `loss` argument?\n",
      "320/320 [==============================] - 113s 274ms/step - loss: 1.7651 - accuracy: 0.1999 - val_loss: 1.7638 - val_accuracy: 0.1924\n",
      "Epoch 2/20\n",
      "320/320 [==============================] - 91s 283ms/step - loss: 1.7542 - accuracy: 0.2120 - val_loss: 1.7500 - val_accuracy: 0.2305\n",
      "Epoch 3/20\n",
      "320/320 [==============================] - 91s 286ms/step - loss: 1.7233 - accuracy: 0.2551 - val_loss: 1.7124 - val_accuracy: 0.2531\n",
      "Epoch 4/20\n",
      "320/320 [==============================] - 92s 286ms/step - loss: 1.6606 - accuracy: 0.2978 - val_loss: 1.7130 - val_accuracy: 0.2570\n",
      "Epoch 5/20\n",
      "320/320 [==============================] - 91s 286ms/step - loss: 1.5296 - accuracy: 0.3812 - val_loss: 1.7300 - val_accuracy: 0.2609\n",
      "Epoch 6/20\n",
      "320/320 [==============================] - 91s 286ms/step - loss: 1.3384 - accuracy: 0.5098 - val_loss: 1.8406 - val_accuracy: 0.2477\n",
      "Epoch 7/20\n",
      "320/320 [==============================] - 91s 286ms/step - loss: 1.1531 - accuracy: 0.6277 - val_loss: 1.8807 - val_accuracy: 0.2492\n",
      "Epoch 8/20\n",
      "320/320 [==============================] - 91s 285ms/step - loss: 0.9766 - accuracy: 0.7255 - val_loss: 1.9623 - val_accuracy: 0.2391\n",
      "Epoch 9/20\n",
      "320/320 [==============================] - 91s 286ms/step - loss: 0.8296 - accuracy: 0.7925 - val_loss: 2.0496 - val_accuracy: 0.2391\n",
      "Epoch 10/20\n",
      "320/320 [==============================] - 92s 286ms/step - loss: 0.7186 - accuracy: 0.8285 - val_loss: 2.0849 - val_accuracy: 0.2298\n",
      "Epoch 11/20\n",
      "320/320 [==============================] - 91s 286ms/step - loss: 0.6317 - accuracy: 0.8537 - val_loss: 2.1477 - val_accuracy: 0.2516\n",
      "Epoch 12/20\n",
      "320/320 [==============================] - 92s 286ms/step - loss: 0.5578 - accuracy: 0.8792 - val_loss: 2.2362 - val_accuracy: 0.2648\n",
      "Epoch 13/20\n",
      "320/320 [==============================] - 91s 286ms/step - loss: 0.4928 - accuracy: 0.8959 - val_loss: 2.3165 - val_accuracy: 0.2453\n",
      "Epoch 13: early stopping\n"
     ]
    }
   ],
   "source": [
    "# Fit the model\n",
    "history= model.fit(train_tokenized_inputs['input_ids'], train_cat_labels, epochs=20, validation_data=(val_tokenized_inputs['input_ids'], val_cat_labels), callbacks=[early_stopping])"
   ]
  },
  {
   "cell_type": "code",
   "execution_count": null,
   "metadata": {
    "id": "rSskGXzpBmIH",
    "outputId": "a8e385f3-8ba3-47dd-df13-4cfc848273ad"
   },
   "outputs": [
    {
     "name": "stdout",
     "output_type": "stream",
     "text": [
      "40/40 [==============================] - 6s 91ms/step - loss: 2.2872 - accuracy: 0.2644\n",
      "Test Loss: 2.2872073650360107, Test Accuracy: 0.2644041180610657\n"
     ]
    },
    {
     "data": {
      "image/png": "[encoded data removed]",
      "text/plain": [
       "<Figure size 640x480 with 1 Axes>"
      ]
     },
     "metadata": {},
     "output_type": "display_data"
    },
    {
     "data": {
      "image/png": "[encoded data removed]",
      "text/plain": [
       "<Figure size 640x480 with 1 Axes>"
      ]
     },
     "metadata": {},
     "output_type": "display_data"
    }
   ],
   "source": [
    "# Evaluate the model on the test set\n",
    "test_loss, test_accuracy = model.evaluate(test_tokenized_inputs['input_ids'], test_cat_labels)\n",
    "print(f'Test Loss: {test_loss}, Test Accuracy: {test_accuracy}')\n",
    "\n",
    "# Plot training history\n",
    "plt.plot(history.history['accuracy'], label='Training Accuracy')\n",
    "plt.plot(history.history['val_accuracy'], label='Validation Accuracy')\n",
    "plt.xlabel('Epoch')\n",
    "plt.ylabel('Accuracy')\n",
    "plt.legend()\n",
    "plt.show()\n",
    "\n",
    "plt.plot(history.history['loss'], label='Training Loss')\n",
    "plt.plot(history.history['val_loss'], label='Validation Loss')\n",
    "plt.xlabel('Epoch')\n",
    "plt.ylabel('Loss')\n",
    "plt.legend()\n",
    "plt.show()"
   ]
  },
  {
   "cell_type": "markdown",
   "metadata": {
    "id": "X9silUNGBsjP"
   },
   "source": [
    "\n",
    "UnFrozen Architecture, slow learning, smaller deep network"
   ]
  },
  {
   "cell_type": "code",
   "execution_count": null,
   "metadata": {
    "id": "KY6BTR0rBy33",
    "outputId": "05ed25c9-e0b4-4429-f614-c0e64c54e5a9"
   },
   "outputs": [
    {
     "name": "stderr",
     "output_type": "stream",
     "text": [
      "Some weights of the PyTorch model were not used when initializing the TF 2.0 model TFBertModel: ['cls.predictions.transform.LayerNorm.bias', 'cls.predictions.transform.dense.bias', 'cls.predictions.transform.dense.weight', 'cls.seq_relationship.bias', 'cls.seq_relationship.weight', 'cls.predictions.bias', 'cls.predictions.transform.LayerNorm.weight']\n",
      "- This IS expected if you are initializing TFBertModel from a PyTorch model trained on another task or with another architecture (e.g. initializing a TFBertForSequenceClassification model from a BertForPreTraining model).\n",
      "- This IS NOT expected if you are initializing TFBertModel from a PyTorch model that you expect to be exactly identical (e.g. initializing a TFBertForSequenceClassification model from a BertForSequenceClassification model).\n",
      "All the weights of TFBertModel were initialized from the PyTorch model.\n",
      "If your task is similar to the task the model of the checkpoint was trained on, you can already use TFBertModel for predictions without further training.\n"
     ]
    }
   ],
   "source": [
    "bert_model = TFBertModel.from_pretrained('bert-base-uncased')\n",
    "class MyBERTModel(Model):\n",
    "    def __init__(self):\n",
    "        super(MyBERTModel, self).__init__()\n",
    "        self.bert_model = bert_model  # Assuming you have a pre-defined bert_model\n",
    "\n",
    "        # Add your custom layers here\n",
    "        self.global_avg_pooling = GlobalAveragePooling1D()\n",
    "        self.dense1 = Dense(64,  activation='sigmoid')\n",
    "        self.dense2 = Dense(6, activation='softmax')\n",
    "\n",
    "    def call(self, inputs):\n",
    "        outputs = self.bert_model(inputs)[\"last_hidden_state\"]\n",
    "        pooled_output = self.global_avg_pooling(outputs)\n",
    "        den = self.dense1(pooled_output)\n",
    "        out = self.dense2(den)\n",
    "        return out\n",
    "\n",
    "# Create an instance of the model\n",
    "model = MyBERTModel()\n",
    "\n",
    "# Compile the model\n",
    "model.compile(optimizer=Adam(learning_rate=2e-5),\n",
    "              loss=tf.keras.losses.CategoricalCrossentropy(),\n",
    "              metrics=['accuracy'])\n",
    "\n",
    "#Callbacks\n",
    "early_stopping = EarlyStopping(monitor='val_loss', patience=10, mode='min', verbose=1)\n"
   ]
  },
  {
   "cell_type": "code",
   "execution_count": null,
   "metadata": {
    "id": "iLF_XNSJvCFN",
    "outputId": "8e2dfaff-23ff-46b4-c536-2c8dc7f765d8"
   },
   "outputs": [
    {
     "name": "stdout",
     "output_type": "stream",
     "text": [
      "Epoch 1/10\n",
      "WARNING:tensorflow:Gradients do not exist for variables ['tf_bert_model_4/bert/pooler/dense/kernel:0', 'tf_bert_model_4/bert/pooler/dense/bias:0'] when minimizing the loss. If you're using `model.compile()`, did you forget to provide a `loss` argument?\n",
      "WARNING:tensorflow:Gradients do not exist for variables ['tf_bert_model_4/bert/pooler/dense/kernel:0', 'tf_bert_model_4/bert/pooler/dense/bias:0'] when minimizing the loss. If you're using `model.compile()`, did you forget to provide a `loss` argument?\n",
      "WARNING:tensorflow:Gradients do not exist for variables ['tf_bert_model_4/bert/pooler/dense/kernel:0', 'tf_bert_model_4/bert/pooler/dense/bias:0'] when minimizing the loss. If you're using `model.compile()`, did you forget to provide a `loss` argument?\n",
      "WARNING:tensorflow:Gradients do not exist for variables ['tf_bert_model_4/bert/pooler/dense/kernel:0', 'tf_bert_model_4/bert/pooler/dense/bias:0'] when minimizing the loss. If you're using `model.compile()`, did you forget to provide a `loss` argument?\n",
      "320/320 [==============================] - 109s 265ms/step - loss: 1.7935 - accuracy: 0.1986 - val_loss: 1.8204 - val_accuracy: 0.1931\n",
      "Epoch 2/10\n",
      "320/320 [==============================] - 90s 281ms/step - loss: 1.7885 - accuracy: 0.1894 - val_loss: 1.8151 - val_accuracy: 0.1931\n",
      "Epoch 3/10\n",
      "320/320 [==============================] - 91s 286ms/step - loss: 1.7811 - accuracy: 0.1886 - val_loss: 1.7888 - val_accuracy: 0.1931\n",
      "Epoch 4/10\n",
      "320/320 [==============================] - 91s 284ms/step - loss: 1.7830 - accuracy: 0.1905 - val_loss: 1.7814 - val_accuracy: 0.1846\n",
      "Epoch 5/10\n",
      "320/320 [==============================] - 91s 286ms/step - loss: 1.7876 - accuracy: 0.1925 - val_loss: 1.7665 - val_accuracy: 0.1931\n",
      "Epoch 6/10\n",
      "320/320 [==============================] - 91s 285ms/step - loss: 1.7823 - accuracy: 0.1939 - val_loss: 1.8210 - val_accuracy: 0.1931\n",
      "Epoch 7/10\n",
      "320/320 [==============================] - 91s 285ms/step - loss: 1.7836 - accuracy: 0.1917 - val_loss: 1.7887 - val_accuracy: 0.2048\n",
      "Epoch 8/10\n",
      "320/320 [==============================] - 91s 286ms/step - loss: 1.7884 - accuracy: 0.1895 - val_loss: 1.7946 - val_accuracy: 0.1955\n",
      "Epoch 9/10\n",
      "320/320 [==============================] - 91s 285ms/step - loss: 1.7830 - accuracy: 0.1934 - val_loss: 1.8268 - val_accuracy: 0.1316\n",
      "Epoch 10/10\n",
      "320/320 [==============================] - 91s 285ms/step - loss: 1.7845 - accuracy: 0.1979 - val_loss: 1.8536 - val_accuracy: 0.1316\n"
     ]
    },
    {
     "data": {
      "text/plain": [
       "<keras.src.callbacks.History at 0x7ef424112e60>"
      ]
     },
     "execution_count": 51,
     "metadata": {},
     "output_type": "execute_result"
    }
   ],
   "source": [
    "# Fit the model\n",
    "history= model.fit(train_tokenized_inputs['input_ids'], train_cat_labels, epochs=20, validation_data=(val_tokenized_inputs['input_ids'], val_cat_labels), callbacks=[early_stopping])"
   ]
  },
  {
   "cell_type": "code",
   "execution_count": null,
   "metadata": {
    "id": "UPEpsG5sCF7V",
    "outputId": "b235702e-edd4-4e08-ad34-39e9e3a412c7"
   },
   "outputs": [
    {
     "name": "stdout",
     "output_type": "stream",
     "text": [
      "40/40 [==============================] - 6s 87ms/step - loss: 3.0071 - accuracy: 0.2612\n",
      "Test Loss: 3.007131576538086, Test Accuracy: 0.26124703884124756\n"
     ]
    },
    {
     "data": {
      "image/png": "[encoded data removed]",
      "text/plain": [
       "<Figure size 640x480 with 1 Axes>"
      ]
     },
     "metadata": {},
     "output_type": "display_data"
    },
    {
     "data": {
      "image/png": "[encoded data removed]",
      "text/plain": [
       "<Figure size 640x480 with 1 Axes>"
      ]
     },
     "metadata": {},
     "output_type": "display_data"
    }
   ],
   "source": [
    "# Evaluate the model on the test set\n",
    "test_loss, test_accuracy = model.evaluate(test_tokenized_inputs['input_ids'], test_cat_labels)\n",
    "print(f'Test Loss: {test_loss}, Test Accuracy: {test_accuracy}')\n",
    "\n",
    "# Plot training history\n",
    "plt.plot(history.history['accuracy'], label='Training Accuracy')\n",
    "plt.plot(history.history['val_accuracy'], label='Validation Accuracy')\n",
    "plt.xlabel('Epoch')\n",
    "plt.ylabel('Accuracy')\n",
    "plt.legend()\n",
    "plt.show()\n",
    "\n",
    "plt.plot(history.history['loss'], label='Training Loss')\n",
    "plt.plot(history.history['val_loss'], label='Validation Loss')\n",
    "plt.xlabel('Epoch')\n",
    "plt.ylabel('Loss')\n",
    "plt.legend()\n",
    "plt.show()"
   ]
  },
  {
   "cell_type": "markdown",
   "metadata": {
    "id": "kkO-u7XXV9WS"
   },
   "source": [
    "# Trial 2"
   ]
  },
  {
   "cell_type": "code",
   "execution_count": 12,
   "metadata": {
    "id": "zeQ_DWuVvCFG"
   },
   "outputs": [],
   "source": [
    "import pandas as pd\n",
    "from transformers import BertTokenizer, TFBertModel\n",
    "from tensorflow.keras.layers import Input, Dense, Concatenate, GlobalAveragePooling1D\n",
    "from tensorflow.keras.models import Model\n",
    "from tensorflow.keras.optimizers import Adam"
   ]
  },
  {
   "cell_type": "code",
   "execution_count": 14,
   "metadata": {
    "id": "mamcL-lJWJfH"
   },
   "outputs": [],
   "source": [
    "selected_columns = ['Statement', 'Subject', 'Speaker', 'Job_title', 'State_info', 'Party_affiliation', 'Context']\n",
    "\n",
    "# Create a new column 'New_Column' with the desired format using only the specified columns\n",
    "train_df['New_Column'] = train_df[selected_columns].apply(lambda row: ', '.join([f'{col}: \"{row[col]}\"' for col in selected_columns]), axis=1)\n",
    "val_df['New_Column']   = val_df[selected_columns].apply(lambda row: ', '.join([f'{col}: \"{row[col]}\"' for col in selected_columns]), axis=1)\n",
    "test_df['New_Column'] = test_df[selected_columns].apply(lambda row: ', '.join([f'{col}: \"{row[col]}\"' for col in selected_columns]), axis=1)"
   ]
  },
  {
   "cell_type": "code",
   "execution_count": 15,
   "metadata": {
    "id": "k_AXUGHdaYYO"
   },
   "outputs": [],
   "source": [
    "statement_len=[]\n",
    "for i in train_df['New_Column']:\n",
    "  if len(i)<500:\n",
    "    statement_len.append(len(i))"
   ]
  },
  {
   "cell_type": "code",
   "execution_count": 16,
   "metadata": {
    "colab": {
     "base_uri": "https://localhost:8080/",
     "height": 430
    },
    "id": "PFkgkJrvbDwS",
    "outputId": "d506b0b9-4871-42a4-ffc5-5c085eea20e1"
   },
   "outputs": [
    {
     "data": {
      "image/png": "[encoded data removed]",
      "text/plain": [
       "<Figure size 640x480 with 1 Axes>"
      ]
     },
     "metadata": {},
     "output_type": "display_data"
    }
   ],
   "source": [
    "import matplotlib.pyplot as plt\n",
    "\n",
    "plt.hist(statement_len, 30)\n",
    "plt.show()"
   ]
  },
  {
   "cell_type": "code",
   "execution_count": 17,
   "metadata": {
    "id": "NoB_qfBabE00"
   },
   "outputs": [],
   "source": [
    "max_len= 400"
   ]
  },
  {
   "cell_type": "code",
   "execution_count": null,
   "metadata": {
    "colab": {
     "base_uri": "https://localhost:8080/"
    },
    "id": "zyV6IXqNbE30",
    "outputId": "7afab7ca-d493-49ff-e811-59c58e33e060"
   },
   "outputs": [
    {
     "name": "stderr",
     "output_type": "stream",
     "text": [
      "Some weights of the PyTorch model were not used when initializing the TF 2.0 model TFBertModel: ['cls.predictions.transform.LayerNorm.bias', 'cls.predictions.transform.dense.bias', 'cls.predictions.transform.dense.weight', 'cls.seq_relationship.bias', 'cls.seq_relationship.weight', 'cls.predictions.bias', 'cls.predictions.transform.LayerNorm.weight']\n",
      "- This IS expected if you are initializing TFBertModel from a PyTorch model trained on another task or with another architecture (e.g. initializing a TFBertForSequenceClassification model from a BertForPreTraining model).\n",
      "- This IS NOT expected if you are initializing TFBertModel from a PyTorch model that you expect to be exactly identical (e.g. initializing a TFBertForSequenceClassification model from a BertForSequenceClassification model).\n",
      "All the weights of TFBertModel were initialized from the PyTorch model.\n",
      "If your task is similar to the task the model of the checkpoint was trained on, you can already use TFBertModel for predictions without further training.\n"
     ]
    }
   ],
   "source": [
    "# Load BERT tokenizer and model\n",
    "tokenizer = BertTokenizer.from_pretrained('bert-base-uncased')\n",
    "bert_model = TFBertModel.from_pretrained('bert-base-uncased')"
   ]
  },
  {
   "cell_type": "code",
   "execution_count": null,
   "metadata": {
    "id": "vUBoKDVabE7j"
   },
   "outputs": [],
   "source": [
    "train_texts = train_df['New_Column'].values\n",
    "val_texts = val_df['New_Column'].values\n",
    "test_texts= test_df['New_Column'].values\n",
    "\n",
    "# Tokenize and pad the input sequences\n",
    "train_tokenized_inputs = tokenizer(train_texts.tolist(), padding=True, truncation=True, max_length=max_len, return_tensors=\"tf\")\n",
    "val_tokenized_inputs = tokenizer(val_texts.tolist(), padding=True, truncation=True, max_length=max_len, return_tensors=\"tf\")\n",
    "test_tokenized_inputs = tokenizer(test_texts.tolist(), padding=True, truncation=True, max_length=max_len, return_tensors=\"tf\")"
   ]
  },
  {
   "cell_type": "markdown",
   "metadata": {
    "id": "JG1U83l4DEat"
   },
   "source": [
    "Best one from Above architecture"
   ]
  },
  {
   "cell_type": "code",
   "execution_count": null,
   "metadata": {
    "id": "qC9pnOErDIfn",
    "outputId": "b6308087-8b58-412d-c0dc-c93ecfdc8f9d"
   },
   "outputs": [
    {
     "name": "stderr",
     "output_type": "stream",
     "text": [
      "Some weights of the PyTorch model were not used when initializing the TF 2.0 model TFBertModel: ['cls.predictions.transform.LayerNorm.bias', 'cls.predictions.transform.dense.bias', 'cls.predictions.transform.dense.weight', 'cls.seq_relationship.bias', 'cls.seq_relationship.weight', 'cls.predictions.bias', 'cls.predictions.transform.LayerNorm.weight']\n",
      "- This IS expected if you are initializing TFBertModel from a PyTorch model trained on another task or with another architecture (e.g. initializing a TFBertForSequenceClassification model from a BertForPreTraining model).\n",
      "- This IS NOT expected if you are initializing TFBertModel from a PyTorch model that you expect to be exactly identical (e.g. initializing a TFBertForSequenceClassification model from a BertForSequenceClassification model).\n",
      "All the weights of TFBertModel were initialized from the PyTorch model.\n",
      "If your task is similar to the task the model of the checkpoint was trained on, you can already use TFBertModel for predictions without further training.\n"
     ]
    }
   ],
   "source": [
    "bert_model = TFBertModel.from_pretrained('bert-base-uncased')\n",
    "class MyBERTModel(Model):\n",
    "    def __init__(self):\n",
    "        super(MyBERTModel, self).__init__()\n",
    "        self.bert_model = bert_model  # Assuming you have a pre-defined bert_model\n",
    "\n",
    "        # Add your custom layers here\n",
    "        self.global_avg_pooling = GlobalAveragePooling1D()\n",
    "        self.dense1 = Dense(128, activation='sigmoid')\n",
    "        self.dense2 = Dense(64,  activation='sigmoid')\n",
    "        self.dense3 = Dense(6, activation='softmax')\n",
    "\n",
    "    def call(self, inputs):\n",
    "        outputs = self.bert_model(inputs)[\"last_hidden_state\"]\n",
    "        pooled_output = self.global_avg_pooling(outputs)\n",
    "        den = self.dense1(pooled_output)\n",
    "        den = self.dense2(den)\n",
    "        out = self.dense3(den)\n",
    "        return out\n",
    "\n",
    "# Create an instance of the model\n",
    "model = MyBERTModel()\n",
    "\n",
    "# Compile the model\n",
    "model.compile(optimizer=Adam(learning_rate=2e-5),\n",
    "              loss=tf.keras.losses.CategoricalCrossentropy(),\n",
    "              metrics=['accuracy'])\n",
    "\n",
    "#Callbacks\n",
    "early_stopping = EarlyStopping(monitor='val_loss', patience=10, mode='min', verbose=1)"
   ]
  },
  {
   "cell_type": "code",
   "execution_count": null,
   "metadata": {
    "id": "GiAZyByLvCFO",
    "outputId": "134c41d8-7e13-464d-87f1-7a4b16e0e689"
   },
   "outputs": [
    {
     "name": "stdout",
     "output_type": "stream",
     "text": [
      "Epoch 1/20\n",
      "WARNING:tensorflow:Gradients do not exist for variables ['tf_bert_model_8/bert/pooler/dense/kernel:0', 'tf_bert_model_8/bert/pooler/dense/bias:0'] when minimizing the loss. If you're using `model.compile()`, did you forget to provide a `loss` argument?\n",
      "WARNING:tensorflow:Gradients do not exist for variables ['tf_bert_model_8/bert/pooler/dense/kernel:0', 'tf_bert_model_8/bert/pooler/dense/bias:0'] when minimizing the loss. If you're using `model.compile()`, did you forget to provide a `loss` argument?\n",
      "WARNING:tensorflow:Gradients do not exist for variables ['tf_bert_model_8/bert/pooler/dense/kernel:0', 'tf_bert_model_8/bert/pooler/dense/bias:0'] when minimizing the loss. If you're using `model.compile()`, did you forget to provide a `loss` argument?\n",
      "WARNING:tensorflow:Gradients do not exist for variables ['tf_bert_model_8/bert/pooler/dense/kernel:0', 'tf_bert_model_8/bert/pooler/dense/bias:0'] when minimizing the loss. If you're using `model.compile()`, did you forget to provide a `loss` argument?\n",
      "320/320 [==============================] - 254s 716ms/step - loss: 1.7870 - accuracy: 0.2064 - val_loss: 1.7693 - val_accuracy: 0.1931\n",
      "Epoch 2/20\n",
      "320/320 [==============================] - 242s 755ms/step - loss: 1.7603 - accuracy: 0.2066 - val_loss: 1.7646 - val_accuracy: 0.1931\n",
      "Epoch 3/20\n",
      "320/320 [==============================] - 242s 757ms/step - loss: 1.7582 - accuracy: 0.2064 - val_loss: 1.7627 - val_accuracy: 0.1931\n",
      "Epoch 4/20\n",
      "320/320 [==============================] - 242s 757ms/step - loss: 1.7544 - accuracy: 0.2091 - val_loss: 1.7461 - val_accuracy: 0.2290\n",
      "Epoch 5/20\n",
      "320/320 [==============================] - 242s 756ms/step - loss: 1.7336 - accuracy: 0.2223 - val_loss: 1.7060 - val_accuracy: 0.2469\n",
      "Epoch 6/20\n",
      "320/320 [==============================] - 243s 759ms/step - loss: 1.7066 - accuracy: 0.2416 - val_loss: 1.7055 - val_accuracy: 0.2321\n",
      "Epoch 7/20\n",
      "320/320 [==============================] - 242s 758ms/step - loss: 1.6870 - accuracy: 0.2570 - val_loss: 1.7033 - val_accuracy: 0.2570\n",
      "Epoch 8/20\n",
      "320/320 [==============================] - 242s 755ms/step - loss: 1.6593 - accuracy: 0.2703 - val_loss: 1.7362 - val_accuracy: 0.2508\n",
      "Epoch 9/20\n",
      "320/320 [==============================] - 243s 758ms/step - loss: 1.6227 - accuracy: 0.2927 - val_loss: 1.6949 - val_accuracy: 0.2726\n",
      "Epoch 10/20\n",
      "320/320 [==============================] - 242s 757ms/step - loss: 1.5730 - accuracy: 0.3167 - val_loss: 1.7129 - val_accuracy: 0.2749\n",
      "Epoch 11/20\n",
      "320/320 [==============================] - 242s 758ms/step - loss: 1.5196 - accuracy: 0.3394 - val_loss: 1.7608 - val_accuracy: 0.2640\n",
      "Epoch 12/20\n",
      "320/320 [==============================] - 242s 756ms/step - loss: 1.4728 - accuracy: 0.3553 - val_loss: 1.7232 - val_accuracy: 0.2741\n",
      "Epoch 13/20\n",
      "320/320 [==============================] - 244s 762ms/step - loss: 1.4223 - accuracy: 0.3840 - val_loss: 1.8339 - val_accuracy: 0.2313\n",
      "Epoch 14/20\n",
      "320/320 [==============================] - 242s 758ms/step - loss: 1.3676 - accuracy: 0.4233 - val_loss: 1.8140 - val_accuracy: 0.2586\n",
      "Epoch 15/20\n",
      "320/320 [==============================] - 242s 758ms/step - loss: 1.3195 - accuracy: 0.4372 - val_loss: 1.8820 - val_accuracy: 0.2274\n",
      "Epoch 16/20\n",
      "320/320 [==============================] - 256s 801ms/step - loss: 1.2777 - accuracy: 0.4719 - val_loss: 1.8563 - val_accuracy: 0.2282\n",
      "Epoch 17/20\n",
      "320/320 [==============================] - 243s 759ms/step - loss: 1.2271 - accuracy: 0.5021 - val_loss: 1.8702 - val_accuracy: 0.2625\n",
      "Epoch 18/20\n",
      "320/320 [==============================] - 243s 758ms/step - loss: 1.1751 - accuracy: 0.5355 - val_loss: 1.8844 - val_accuracy: 0.2539\n",
      "Epoch 19/20\n",
      "320/320 [==============================] - 242s 758ms/step - loss: 1.1205 - accuracy: 0.5692 - val_loss: 1.9164 - val_accuracy: 0.2500\n",
      "Epoch 19: early stopping\n"
     ]
    }
   ],
   "source": [
    "# Fit the model\n",
    "history= model.fit(train_tokenized_inputs['input_ids'], train_cat_labels, epochs=20, validation_data=(val_tokenized_inputs['input_ids'], val_cat_labels), callbacks=[early_stopping])"
   ]
  },
  {
   "cell_type": "code",
   "execution_count": null,
   "metadata": {
    "id": "XG9MewiOvCFO",
    "outputId": "e9a9a21b-4c95-43b4-9a1f-2e8ceb0934f4"
   },
   "outputs": [
    {
     "name": "stdout",
     "output_type": "stream",
     "text": [
      "40/40 [==============================] - 13s 249ms/step - loss: 1.9474 - accuracy: 0.2731\n",
      "Test Loss: 1.94742751121521, Test Accuracy: 0.2730860412120819\n"
     ]
    },
    {
     "data": {
      "image/png": "[encoded data removed]",
      "text/plain": [
       "<Figure size 640x480 with 1 Axes>"
      ]
     },
     "metadata": {},
     "output_type": "display_data"
    },
    {
     "data": {
      "image/png": "[encoded data removed]",
      "text/plain": [
       "<Figure size 640x480 with 1 Axes>"
      ]
     },
     "metadata": {},
     "output_type": "display_data"
    }
   ],
   "source": [
    "# Evaluate the model on the test set\n",
    "test_loss, test_accuracy = model.evaluate(test_tokenized_inputs['input_ids'], test_cat_labels)\n",
    "print(f'Test Loss: {test_loss}, Test Accuracy: {test_accuracy}')\n",
    "\n",
    "# Plot training history\n",
    "plt.plot(history.history['accuracy'], label='Training Accuracy')\n",
    "plt.plot(history.history['val_accuracy'], label='Validation Accuracy')\n",
    "plt.xlabel('Epoch')\n",
    "plt.ylabel('Accuracy')\n",
    "plt.legend()\n",
    "plt.show()\n",
    "\n",
    "plt.plot(history.history['loss'], label='Training Loss')\n",
    "plt.plot(history.history['val_loss'], label='Validation Loss')\n",
    "plt.xlabel('Epoch')\n",
    "plt.ylabel('Loss')\n",
    "plt.legend()\n",
    "plt.show()"
   ]
  },
  {
   "cell_type": "markdown",
   "metadata": {
    "id": "_kB3RWK8svrU"
   },
   "source": [
    "#Trial 3- Using all features"
   ]
  },
  {
   "cell_type": "code",
   "execution_count": 12,
   "metadata": {
    "id": "qa8rRfOTs1qx"
   },
   "outputs": [],
   "source": [
    "train_numeric_features = train_df[['Barely_true_counts', 'False_counts', 'Half_true_counts', 'Mostly_true_counts', 'Pants_on_fire_counts']].values.tolist()\n",
    "val_numeric_features  = val_df[['Barely_true_counts', 'False_counts', 'Half_true_counts', 'Mostly_true_counts', 'Pants_on_fire_counts']].values.tolist()\n",
    "test_numeric_features = test_df[['Barely_true_counts', 'False_counts', 'Half_true_counts', 'Mostly_true_counts', 'Pants_on_fire_counts']].values.tolist()\n"
   ]
  },
  {
   "cell_type": "code",
   "execution_count": 13,
   "metadata": {
    "id": "yoSC0Q3DzHAn"
   },
   "outputs": [],
   "source": [
    "import numpy as np\n",
    "train_numeric_features = np.array(train_numeric_features)\n",
    "val_numeric_features = np.array(val_numeric_features)\n",
    "test_numeric_features = np.array(test_numeric_features)"
   ]
  },
  {
   "cell_type": "code",
   "execution_count": 14,
   "metadata": {
    "colab": {
     "base_uri": "https://localhost:8080/"
    },
    "id": "n3TEBoyTy0sq",
    "outputId": "344dfa7a-ae08-4209-ff11-d2e89c81c502"
   },
   "outputs": [
    {
     "data": {
      "text/plain": [
       "numpy.ndarray"
      ]
     },
     "execution_count": 14,
     "metadata": {},
     "output_type": "execute_result"
    }
   ],
   "source": [
    "type(test_numeric_features)"
   ]
  },
  {
   "cell_type": "code",
   "execution_count": 15,
   "metadata": {
    "id": "yfMF5YmrvCFP"
   },
   "outputs": [],
   "source": [
    "selected_columns = ['Statement', 'Subject', 'Speaker', 'Job_title', 'State_info', 'Party_affiliation', 'Context']\n",
    "\n",
    "# Create a new column 'New_Column' with the desired format using only the specified columns\n",
    "train_df['New_Column'] = train_df[selected_columns].apply(lambda row: ', '.join([f'{col}: \"{row[col]}\"' for col in selected_columns]), axis=1)\n",
    "val_df['New_Column']   = val_df[selected_columns].apply(lambda row: ', '.join([f'{col}: \"{row[col]}\"' for col in selected_columns]), axis=1)\n",
    "test_df['New_Column'] = test_df[selected_columns].apply(lambda row: ', '.join([f'{col}: \"{row[col]}\"' for col in selected_columns]), axis=1)"
   ]
  },
  {
   "cell_type": "code",
   "execution_count": 17,
   "metadata": {},
   "outputs": [],
   "source": [
    "from transformers import BertTokenizer, TFBertModel\n",
    "from tensorflow.keras.layers import Input, Dense, Concatenate, GlobalAveragePooling1D\n",
    "from tensorflow.keras.models import Model\n",
    "from tensorflow.keras.optimizers import Adam"
   ]
  },
  {
   "cell_type": "code",
   "execution_count": 18,
   "metadata": {
    "colab": {
     "base_uri": "https://localhost:8080/"
    },
    "id": "Ahxe6W5cwa4l",
    "outputId": "c2bb708a-5220-4107-c62f-860c3fd860aa"
   },
   "outputs": [
    {
     "name": "stderr",
     "output_type": "stream",
     "text": [
      "2023-11-29 23:59:49.572574: I tensorflow/core/common_runtime/gpu/gpu_device.cc:1886] Created device /job:localhost/replica:0/task:0/device:GPU:0 with 38374 MB memory:  -> device: 0, name: NVIDIA A100-PCIE-40GB, pci bus id: 0000:20:00.0, compute capability: 8.0\n",
      "2023-11-29 23:59:51.429329: I tensorflow/tsl/platform/default/subprocess.cc:304] Start cannot spawn child process: No such file or directory\n",
      "Some weights of the PyTorch model were not used when initializing the TF 2.0 model TFBertModel: ['cls.predictions.transform.dense.bias', 'cls.predictions.transform.dense.weight', 'cls.predictions.transform.LayerNorm.bias', 'cls.predictions.transform.LayerNorm.weight', 'cls.predictions.bias', 'cls.seq_relationship.weight', 'cls.seq_relationship.bias']\n",
      "- This IS expected if you are initializing TFBertModel from a PyTorch model trained on another task or with another architecture (e.g. initializing a TFBertForSequenceClassification model from a BertForPreTraining model).\n",
      "- This IS NOT expected if you are initializing TFBertModel from a PyTorch model that you expect to be exactly identical (e.g. initializing a TFBertForSequenceClassification model from a BertForSequenceClassification model).\n",
      "All the weights of TFBertModel were initialized from the PyTorch model.\n",
      "If your task is similar to the task the model of the checkpoint was trained on, you can already use TFBertModel for predictions without further training.\n"
     ]
    }
   ],
   "source": [
    "# Load BERT tokenizer and model\n",
    "tokenizer = BertTokenizer.from_pretrained('bert-base-uncased')\n",
    "bert_model = TFBertModel.from_pretrained('bert-base-uncased')"
   ]
  },
  {
   "cell_type": "code",
   "execution_count": 20,
   "metadata": {},
   "outputs": [],
   "source": [
    "max_len= 400"
   ]
  },
  {
   "cell_type": "code",
   "execution_count": 21,
   "metadata": {
    "id": "1NXgBHCJv2NE"
   },
   "outputs": [],
   "source": [
    "train_texts = train_df['New_Column'].values\n",
    "val_texts = val_df['New_Column'].values\n",
    "test_texts= test_df['New_Column'].values\n",
    "\n",
    "# Tokenize and pad the input sequences\n",
    "train_tokenized_inputs = tokenizer(train_texts.tolist(), padding=True, truncation=True, max_length=max_len, return_tensors=\"tf\")\n",
    "val_tokenized_inputs = tokenizer(val_texts.tolist(), padding=True, truncation=True, max_length=max_len, return_tensors=\"tf\")\n",
    "test_tokenized_inputs = tokenizer(test_texts.tolist(), padding=True, truncation=True, max_length=max_len, return_tensors=\"tf\")"
   ]
  },
  {
   "cell_type": "code",
   "execution_count": 22,
   "metadata": {
    "id": "qwcLyOa4vCFP"
   },
   "outputs": [],
   "source": [
    "train_labels= train_df['Label'].values\n",
    "val_labels= val_df['Label'].values\n",
    "test_labels= test_df['Label'].values\n",
    "\n",
    "import tensorflow as tf\n",
    "from tensorflow.keras.utils import to_categorical\n",
    "\n",
    "class_labels = {'pants-fire': 0,'false': 1, 'barely-true': 2, 'half-true': 3, 'mostly-true': 4, 'true': 5}\n",
    "\n",
    "# Convert integers to one-hot encoded categorical labels\n",
    "encoded_labels = [class_labels[label] for label in train_labels]\n",
    "train_cat_labels = to_categorical(encoded_labels, num_classes=6)\n",
    "\n",
    "\n",
    "encoded_labels = [class_labels[label] for label in val_labels]\n",
    "val_cat_labels = to_categorical(encoded_labels, num_classes=6)\n",
    "\n",
    "\n",
    "encoded_labels = [class_labels[label] for label in test_labels]\n",
    "test_cat_labels = to_categorical(encoded_labels, num_classes=6)"
   ]
  },
  {
   "cell_type": "code",
   "execution_count": 23,
   "metadata": {
    "colab": {
     "base_uri": "https://localhost:8080/"
    },
    "id": "3zoNUCLbvCFP",
    "outputId": "aea07c7d-62dd-408e-c56e-be532eac9b04"
   },
   "outputs": [
    {
     "data": {
      "text/plain": [
       "10238"
      ]
     },
     "execution_count": 23,
     "metadata": {},
     "output_type": "execute_result"
    }
   ],
   "source": [
    "len(train_numeric_features)"
   ]
  },
  {
   "cell_type": "code",
   "execution_count": 24,
   "metadata": {
    "id": "eIhJ4u4ivCFP"
   },
   "outputs": [],
   "source": [
    "from tensorflow.keras import regularizers"
   ]
  },
  {
   "cell_type": "code",
   "execution_count": 25,
   "metadata": {
    "id": "W2APAfkqwXMB"
   },
   "outputs": [],
   "source": [
    "# Build the model\n",
    "bert_model.trainable = False\n",
    "text_input = Input(shape=(None,), dtype=tf.int32, name=\"text_input\")\n",
    "numeric_input = Input(shape=(len(train_numeric_features[0]),), dtype=tf.float32, name=\"numeric_input\")\n",
    "\n",
    "# BERT model for textual features\n",
    "text_output = bert_model(text_input)[\"last_hidden_state\"]\n",
    "text_output = GlobalAveragePooling1D()(text_output)\n",
    "\n",
    "# Dense layer for numeric features\n",
    "numeric_output = Dense(32, activation=\"relu\")(numeric_input)\n",
    "numeric_output = Dense(64, activation=\"relu\")(numeric_output)\n",
    "# Concatenate the outputs\n",
    "concatenated = Concatenate()([text_output, numeric_output])\n",
    "\n",
    "# Add more dense layers if needed\n",
    "output = Dense(128, activation=\"sigmoid\", kernel_regularizer=regularizers.l2(0.01))(concatenated)\n",
    "output= Dense(64, activation=\"sigmoid\", kernel_regularizer=regularizers.l2(0.01))(output)\n",
    "output = Dense(6, activation=\"softmax\")(output)\n",
    "\n",
    "# Create the model\n",
    "model = Model(inputs=[text_input, numeric_input], outputs=output)"
   ]
  },
  {
   "cell_type": "code",
   "execution_count": 26,
   "metadata": {},
   "outputs": [],
   "source": [
    "# Define callbacks\n",
    "from tensorflow.keras.callbacks import EarlyStopping\n",
    "import matplotlib.pyplot as plt"
   ]
  },
  {
   "cell_type": "code",
   "execution_count": 29,
   "metadata": {},
   "outputs": [],
   "source": [
    "#Callbacks\n",
    "early_stopping = EarlyStopping(monitor='val_loss', patience=5, mode='min', verbose=1)"
   ]
  },
  {
   "cell_type": "code",
   "execution_count": 30,
   "metadata": {
    "id": "2FjOqJchw22d"
   },
   "outputs": [],
   "source": [
    "from tensorflow.keras.optimizers import Adam\n",
    "\n",
    "# Use Adam optimizer with gradient clipping\n",
    "optimizer = Adam(clipvalue=1.0)  # You can adjust the clipvalue as needed\n",
    "\n",
    "model.compile(optimizer=optimizer, loss='categorical_crossentropy', metrics=['accuracy'])\n"
   ]
  },
  {
   "cell_type": "code",
   "execution_count": 31,
   "metadata": {
    "colab": {
     "base_uri": "https://localhost:8080/",
     "height": 426
    },
    "id": "djbMkoF0yE02",
    "outputId": "ca74cb02-f3f2-4ae3-e0f7-367ea781cadf"
   },
   "outputs": [
    {
     "name": "stdout",
     "output_type": "stream",
     "text": [
      "Epoch 1/20\n"
     ]
    },
    {
     "name": "stderr",
     "output_type": "stream",
     "text": [
      "2023-11-30 00:02:52.074593: I tensorflow/compiler/xla/service/service.cc:168] XLA service 0x7f0be8467f40 initialized for platform CUDA (this does not guarantee that XLA will be used). Devices:\n",
      "2023-11-30 00:02:52.074625: I tensorflow/compiler/xla/service/service.cc:176]   StreamExecutor device (0): NVIDIA A100-PCIE-40GB, Compute Capability 8.0\n",
      "2023-11-30 00:02:52.080142: I tensorflow/compiler/mlir/tensorflow/utils/dump_mlir_util.cc:269] disabling MLIR crash reproducer, set env var `MLIR_CRASH_REPRODUCER_DIRECTORY` to enable.\n",
      "2023-11-30 00:02:52.882762: I tensorflow/compiler/xla/stream_executor/cuda/cuda_dnn.cc:442] Loaded cuDNN version 8700\n",
      "2023-11-30 00:02:53.029071: I ./tensorflow/compiler/jit/device_compiler.h:186] Compiled cluster using XLA!  This line is logged at most once for the lifetime of the process.\n"
     ]
    },
    {
     "name": "stdout",
     "output_type": "stream",
     "text": [
      "320/320 [==============================] - 92s 250ms/step - loss: 2.2087 - accuracy: 0.2424 - val_loss: 1.7616 - val_accuracy: 0.2562\n",
      "Epoch 2/20\n",
      "320/320 [==============================] - 79s 247ms/step - loss: 1.7098 - accuracy: 0.3155 - val_loss: 1.6920 - val_accuracy: 0.3263\n",
      "Epoch 3/20\n",
      "320/320 [==============================] - 80s 249ms/step - loss: 1.6529 - accuracy: 0.3561 - val_loss: 1.6518 - val_accuracy: 0.3621\n",
      "Epoch 4/20\n",
      "320/320 [==============================] - 81s 254ms/step - loss: 1.6200 - accuracy: 0.4003 - val_loss: 1.5921 - val_accuracy: 0.4400\n",
      "Epoch 5/20\n",
      "320/320 [==============================] - 82s 257ms/step - loss: 1.5921 - accuracy: 0.4106 - val_loss: 1.5698 - val_accuracy: 0.4455\n",
      "Epoch 6/20\n",
      "320/320 [==============================] - 82s 258ms/step - loss: 1.5678 - accuracy: 0.4277 - val_loss: 1.5491 - val_accuracy: 0.4322\n",
      "Epoch 7/20\n",
      "320/320 [==============================] - 82s 258ms/step - loss: 1.5539 - accuracy: 0.4282 - val_loss: 1.5451 - val_accuracy: 0.4283\n",
      "Epoch 8/20\n",
      "320/320 [==============================] - 82s 258ms/step - loss: 1.5443 - accuracy: 0.4309 - val_loss: 1.5280 - val_accuracy: 0.4540\n",
      "Epoch 9/20\n",
      "320/320 [==============================] - 82s 258ms/step - loss: 1.5306 - accuracy: 0.4337 - val_loss: 1.5207 - val_accuracy: 0.4408\n",
      "Epoch 10/20\n",
      "320/320 [==============================] - 83s 258ms/step - loss: 1.5202 - accuracy: 0.4389 - val_loss: 1.5259 - val_accuracy: 0.4439\n",
      "Epoch 11/20\n",
      "320/320 [==============================] - 82s 258ms/step - loss: 1.5174 - accuracy: 0.4280 - val_loss: 1.5235 - val_accuracy: 0.4322\n",
      "Epoch 12/20\n",
      "320/320 [==============================] - 82s 258ms/step - loss: 1.5087 - accuracy: 0.4284 - val_loss: 1.5191 - val_accuracy: 0.4128\n",
      "Epoch 13/20\n",
      "320/320 [==============================] - 82s 258ms/step - loss: 1.5020 - accuracy: 0.4305 - val_loss: 1.4892 - val_accuracy: 0.4416\n",
      "Epoch 14/20\n",
      "320/320 [==============================] - 83s 258ms/step - loss: 1.4955 - accuracy: 0.4273 - val_loss: 1.4927 - val_accuracy: 0.4463\n",
      "Epoch 15/20\n",
      "320/320 [==============================] - 82s 257ms/step - loss: 1.4895 - accuracy: 0.4301 - val_loss: 1.4879 - val_accuracy: 0.4299\n",
      "Epoch 16/20\n",
      "320/320 [==============================] - 82s 258ms/step - loss: 1.4852 - accuracy: 0.4332 - val_loss: 1.4859 - val_accuracy: 0.4439\n",
      "Epoch 17/20\n",
      "320/320 [==============================] - 82s 258ms/step - loss: 1.4861 - accuracy: 0.4292 - val_loss: 1.4693 - val_accuracy: 0.4229\n",
      "Epoch 18/20\n",
      "320/320 [==============================] - 82s 257ms/step - loss: 1.4842 - accuracy: 0.4295 - val_loss: 1.4762 - val_accuracy: 0.4470\n",
      "Epoch 19/20\n",
      "320/320 [==============================] - 82s 258ms/step - loss: 1.4721 - accuracy: 0.4295 - val_loss: 1.4779 - val_accuracy: 0.4299\n",
      "Epoch 20/20\n",
      "320/320 [==============================] - 82s 258ms/step - loss: 1.4741 - accuracy: 0.4287 - val_loss: 1.4607 - val_accuracy: 0.4315\n"
     ]
    }
   ],
   "source": [
    "history = model.fit(\n",
    "    {\"text_input\": train_tokenized_inputs[\"input_ids\"], \"numeric_input\": train_numeric_features},\n",
    "    train_cat_labels,\n",
    "    epochs=20,\n",
    "    batch_size=32,\n",
    "    validation_data=({\"text_input\": val_tokenized_inputs[\"input_ids\"], \"numeric_input\": val_numeric_features}, val_cat_labels),\n",
    "    callbacks=[early_stopping]\n",
    ")\n"
   ]
  },
  {
   "cell_type": "code",
   "execution_count": 33,
   "metadata": {
    "id": "tQxsR-rVyKu_"
   },
   "outputs": [
    {
     "name": "stdout",
     "output_type": "stream",
     "text": [
      "40/40 [==============================] - 11s 210ms/step - loss: 1.4870 - accuracy: 0.4033\n",
      "Test Loss: 1.4870190620422363, Test Accuracy: 0.4033149182796478\n"
     ]
    },
    {
     "data": {
      "image/png": "[encoded data removed]",
      "text/plain": [
       "<Figure size 640x480 with 1 Axes>"
      ]
     },
     "metadata": {},
     "output_type": "display_data"
    },
    {
     "data": {
      "image/png": "[encoded data removed]",
      "text/plain": [
       "<Figure size 640x480 with 1 Axes>"
      ]
     },
     "metadata": {},
     "output_type": "display_data"
    }
   ],
   "source": [
    "# Evaluate the model on the test set\n",
    "test_loss, test_accuracy = model.evaluate({\"text_input\": test_tokenized_inputs[\"input_ids\"], \"numeric_input\": test_numeric_features}, test_cat_labels)\n",
    "print(f'Test Loss: {test_loss}, Test Accuracy: {test_accuracy}')\n",
    "\n",
    "# Plot training history\n",
    "plt.plot(history.history['accuracy'], label='Training Accuracy')\n",
    "plt.plot(history.history['val_accuracy'], label='Validation Accuracy')\n",
    "plt.xlabel('Epoch')\n",
    "plt.ylabel('Accuracy')\n",
    "plt.legend()\n",
    "plt.show()\n",
    "\n",
    "plt.plot(history.history['loss'], label='Training Loss')\n",
    "plt.plot(history.history['val_loss'], label='Validation Loss')\n",
    "plt.xlabel('Epoch')\n",
    "plt.ylabel('Loss')\n",
    "plt.legend()\n",
    "plt.show()"
   ]
  },
  {
   "cell_type": "code",
   "execution_count": 42,
   "metadata": {},
   "outputs": [
    {
     "name": "stdout",
     "output_type": "stream",
     "text": [
      "40/40 [==============================] - 10s 208ms/step\n",
      "Confusion Matrix:\n",
      "[[ 38  45   1   6   2   0]\n",
      " [  7 147  54   7  32   2]\n",
      " [  1  75  85   2  49   0]\n",
      " [  1  72  36  60  95   1]\n",
      " [  1  41  44   6 149   0]\n",
      " [  3  44  30   8  91  32]]\n",
      "Classification Report:\n",
      "              precision    recall  f1-score   support\n",
      "\n",
      "           0       0.75      0.41      0.53        92\n",
      "           1       0.35      0.59      0.44       249\n",
      "           2       0.34      0.40      0.37       212\n",
      "           3       0.67      0.23      0.34       265\n",
      "           4       0.36      0.62      0.45       241\n",
      "           5       0.91      0.15      0.26       208\n",
      "\n",
      "    accuracy                           0.40      1267\n",
      "   macro avg       0.56      0.40      0.40      1267\n",
      "weighted avg       0.54      0.40      0.39      1267\n",
      "\n"
     ]
    }
   ],
   "source": [
    "import numpy as np\n",
    "from sklearn.metrics import confusion_matrix, classification_report\n",
    "\n",
    "# Assuming model.predict returns categorical probabilities for each class\n",
    "predicted_probs = model.predict({\"text_input\": test_tokenized_inputs[\"input_ids\"], \"numeric_input\": test_numeric_features})\n",
    "\n",
    "# Convert probabilities to class labels\n",
    "predicted_labels = np.argmax(predicted_probs, axis=1)\n",
    "\n",
    "# Convert one-hot encoded true labels to class labels\n",
    "true_labels = np.argmax(test_cat_labels, axis=1)\n",
    "\n",
    "# Calculate confusion matrix\n",
    "conf_matrix = confusion_matrix(true_labels, predicted_labels)\n",
    "print(\"Confusion Matrix:\")\n",
    "print(conf_matrix)\n",
    "\n",
    "# Calculate precision, recall, and F1 score\n",
    "classification_rep = classification_report(true_labels, predicted_labels)\n",
    "print(\"Classification Report:\")\n",
    "print(classification_rep)\n"
   ]
  },
  {
   "cell_type": "markdown",
   "metadata": {},
   "source": [
    "Trial 4"
   ]
  },
  {
   "cell_type": "code",
   "execution_count": 43,
   "metadata": {},
   "outputs": [],
   "source": [
    "train_df['new_label']= [1 if x==\"true\"or x==\"mostly-true\" or x==\"half-true\" else 0 for x in train_df['Label']] "
   ]
  },
  {
   "cell_type": "code",
   "execution_count": 44,
   "metadata": {},
   "outputs": [
    {
     "data": {
      "text/plain": [
       "new_label\n",
       "1    5752\n",
       "0    4486\n",
       "Name: count, dtype: int64"
      ]
     },
     "execution_count": 44,
     "metadata": {},
     "output_type": "execute_result"
    }
   ],
   "source": [
    "train_df['new_label'].value_counts()"
   ]
  },
  {
   "cell_type": "code",
   "execution_count": 45,
   "metadata": {},
   "outputs": [],
   "source": [
    "val_df['new_label']= [1 if x==\"true\"or x==\"mostly-true\" or x==\"half-true\" else 0 for x in val_df['Label']]\n",
    "test_df['new_label']= [1 if x==\"true\"or x==\"mostly-true\" or x==\"half-true\" else 0 for x in test_df['Label']] "
   ]
  },
  {
   "cell_type": "code",
   "execution_count": 49,
   "metadata": {},
   "outputs": [],
   "source": [
    "train_numeric_features = train_df[['Barely_true_counts', 'False_counts', 'Half_true_counts', 'Mostly_true_counts', 'Pants_on_fire_counts']].values.tolist()\n",
    "val_numeric_features  = val_df[['Barely_true_counts', 'False_counts', 'Half_true_counts', 'Mostly_true_counts', 'Pants_on_fire_counts']].values.tolist()\n",
    "test_numeric_features = test_df[['Barely_true_counts', 'False_counts', 'Half_true_counts', 'Mostly_true_counts', 'Pants_on_fire_counts']].values.tolist()\n",
    "\n",
    "import numpy as np\n",
    "train_numeric_features = np.array(train_numeric_features)\n",
    "val_numeric_features = np.array(val_numeric_features)\n",
    "test_numeric_features = np.array(test_numeric_features)\n",
    "\n",
    "train_labels= train_df['new_label'].values\n",
    "val_labels= val_df['new_label'].values\n",
    "test_labels= test_df['new_label'].values"
   ]
  },
  {
   "cell_type": "code",
   "execution_count": 50,
   "metadata": {},
   "outputs": [],
   "source": [
    "# Build the model\n",
    "bert_model.trainable = False\n",
    "text_input = Input(shape=(None,), dtype=tf.int32, name=\"text_input\")\n",
    "numeric_input = Input(shape=(len(train_numeric_features[0]),), dtype=tf.float32, name=\"numeric_input\")\n",
    "\n",
    "# BERT model for textual features\n",
    "text_output = bert_model(text_input)[\"last_hidden_state\"]\n",
    "text_output = GlobalAveragePooling1D()(text_output)\n",
    "\n",
    "# Dense layer for numeric features\n",
    "numeric_output = Dense(32, activation=\"relu\")(numeric_input)\n",
    "numeric_output = Dense(64, activation=\"relu\")(numeric_output)\n",
    "# Concatenate the outputs\n",
    "concatenated = Concatenate()([text_output, numeric_output])\n",
    "\n",
    "# Add more dense layers if needed\n",
    "output = Dense(128, activation=\"sigmoid\", kernel_regularizer=regularizers.l2(0.01))(concatenated)\n",
    "output= Dense(64, activation=\"sigmoid\", kernel_regularizer=regularizers.l2(0.01))(output)\n",
    "output = Dense(1, activation=\"softmax\")(output)\n",
    "\n",
    "# Create the model\n",
    "model = Model(inputs=[text_input, numeric_input], outputs=output)"
   ]
  },
  {
   "cell_type": "code",
   "execution_count": 51,
   "metadata": {},
   "outputs": [],
   "source": [
    "from tensorflow.keras.optimizers import Adam\n",
    "\n",
    "# Use Adam optimizer with gradient clipping\n",
    "optimizer = Adam(clipvalue=1.0)  # You can adjust the clipvalue as needed\n",
    "\n",
    "model.compile(optimizer=optimizer, loss='binary_crossentropy', metrics=['accuracy'])"
   ]
  },
  {
   "cell_type": "code",
   "execution_count": null,
   "metadata": {},
   "outputs": [
    {
     "name": "stdout",
     "output_type": "stream",
     "text": [
      "Epoch 1/20\n",
      "320/320 [==============================] - 90s 249ms/step - loss: 1.0179 - accuracy: 0.5618 - val_loss: 0.6647 - val_accuracy: 0.5202\n",
      "Epoch 2/20\n",
      "320/320 [==============================] - 79s 247ms/step - loss: 0.6210 - accuracy: 0.5618 - val_loss: 0.6077 - val_accuracy: 0.5202\n",
      "Epoch 3/20\n",
      "320/320 [==============================] - 80s 249ms/step - loss: 0.5949 - accuracy: 0.5618 - val_loss: 0.5892 - val_accuracy: 0.5202\n",
      "Epoch 4/20\n",
      "320/320 [==============================] - 81s 254ms/step - loss: 0.5810 - accuracy: 0.5618 - val_loss: 0.5930 - val_accuracy: 0.5202\n",
      "Epoch 5/20\n",
      "320/320 [==============================] - 82s 257ms/step - loss: 0.5694 - accuracy: 0.5618 - val_loss: 0.5664 - val_accuracy: 0.5202\n",
      "Epoch 6/20\n",
      "320/320 [==============================] - 82s 257ms/step - loss: 0.5618 - accuracy: 0.5618 - val_loss: 0.5621 - val_accuracy: 0.5202\n",
      "Epoch 7/20\n",
      "320/320 [==============================] - 82s 257ms/step - loss: 0.5571 - accuracy: 0.5618 - val_loss: 0.5605 - val_accuracy: 0.5202\n",
      "Epoch 8/20\n",
      "320/320 [==============================] - 82s 258ms/step - loss: 0.5533 - accuracy: 0.5618 - val_loss: 0.5518 - val_accuracy: 0.5202\n",
      "Epoch 9/20\n",
      "320/320 [==============================] - 82s 258ms/step - loss: 0.5478 - accuracy: 0.5618 - val_loss: 0.5421 - val_accuracy: 0.5202\n",
      "Epoch 10/20\n",
      "320/320 [==============================] - 82s 258ms/step - loss: 0.5486 - accuracy: 0.5618 - val_loss: 0.5434 - val_accuracy: 0.5202\n",
      "Epoch 11/20\n",
      "320/320 [==============================] - 82s 257ms/step - loss: 0.5421 - accuracy: 0.5618 - val_loss: 0.5570 - val_accuracy: 0.5202\n",
      "Epoch 12/20\n",
      "320/320 [==============================] - 82s 257ms/step - loss: 0.5414 - accuracy: 0.5618 - val_loss: 0.5394 - val_accuracy: 0.5202\n",
      "Epoch 13/20\n",
      "320/320 [==============================] - 82s 257ms/step - loss: 0.5413 - accuracy: 0.5618 - val_loss: 0.5390 - val_accuracy: 0.5202\n",
      "Epoch 14/20\n",
      "320/320 [==============================] - 83s 260ms/step - loss: 0.5408 - accuracy: 0.5618 - val_loss: 0.5339 - val_accuracy: 0.5202\n",
      "Epoch 15/20\n",
      "320/320 [==============================] - 83s 260ms/step - loss: 0.5371 - accuracy: 0.5618 - val_loss: 0.5415 - val_accuracy: 0.5202\n",
      "Epoch 16/20\n",
      "320/320 [==============================] - 83s 260ms/step - loss: 0.5342 - accuracy: 0.5618 - val_loss: 0.5369 - val_accuracy: 0.5202\n",
      "Epoch 17/20\n",
      "320/320 [==============================] - 83s 258ms/step - loss: 0.5349 - accuracy: 0.5618 - val_loss: 0.5541 - val_accuracy: 0.5202\n",
      "Epoch 18/20\n",
      "320/320 [==============================] - 82s 257ms/step - loss: 0.5331 - accuracy: 0.5618 - val_loss: 0.5315 - val_accuracy: 0.5202\n",
      "Epoch 19/20\n",
      "241/320 [=====================>........] - ETA: 19s - loss: 0.5338 - accuracy: 0.5594"
     ]
    }
   ],
   "source": [
    "history = model.fit(\n",
    "    {\"text_input\": train_tokenized_inputs[\"input_ids\"], \"numeric_input\": train_numeric_features},\n",
    "    train_labels,\n",
    "    epochs=20,\n",
    "    batch_size=32,\n",
    "    validation_data=({\"text_input\": val_tokenized_inputs[\"input_ids\"], \"numeric_input\": val_numeric_features}, val_labels)\n",
    ")"
   ]
  },
  {
   "cell_type": "code",
   "execution_count": null,
   "metadata": {},
   "outputs": [],
   "source": []
  }
 ],
 "metadata": {
  "accelerator": "GPU",
  "colab": {
   "gpuType": "T4",
   "provenance": [],
   "toc_visible": true
  },
  "kernelspec": {
   "display_name": "Python 3 (ipykernel)",
   "language": "python",
   "name": "python3"
  },
  "language_info": {
   "codemirror_mode": {
    "name": "ipython",
    "version": 3
   },
   "file_extension": ".py",
   "mimetype": "text/x-python",
   "name": "python",
   "nbconvert_exporter": "python",
   "pygments_lexer": "ipython3",
   "version": "3.10.13"
  },
  "widgets": {
   "application/vnd.jupyter.widget-state+json": {
    "01012429bdf54d219186ef57f5b7b657": {
     "model_module": "@jupyter-widgets/base",
     "model_module_version": "1.2.0",
     "model_name": "LayoutModel",
     "state": {
      "_model_module": "@jupyter-widgets/base",
      "_model_module_version": "1.2.0",
      "_model_name": "LayoutModel",
      "_view_count": null,
      "_view_module": "@jupyter-widgets/base",
      "_view_module_version": "1.2.0",
      "_view_name": "LayoutView",
      "align_content": null,
      "align_items": null,
      "align_self": null,
      "border": null,
      "bottom": null,
      "display": null,
      "flex": null,
      "flex_flow": null,
      "grid_area": null,
      "grid_auto_columns": null,
      "grid_auto_flow": null,
      "grid_auto_rows": null,
      "grid_column": null,
      "grid_gap": null,
      "grid_row": null,
      "grid_template_areas": null,
      "grid_template_columns": null,
      "grid_template_rows": null,
      "height": null,
      "justify_content": null,
      "justify_items": null,
      "left": null,
      "margin": null,
      "max_height": null,
      "max_width": null,
      "min_height": null,
      "min_width": null,
      "object_fit": null,
      "object_position": null,
      "order": null,
      "overflow": null,
      "overflow_x": null,
      "overflow_y": null,
      "padding": null,
      "right": null,
      "top": null,
      "visibility": null,
      "width": null
     }
    },
    "06d06f925794444ab642441d090d9244": {
     "model_module": "@jupyter-widgets/controls",
     "model_module_version": "1.5.0",
     "model_name": "HTMLModel",
     "state": {
      "_dom_classes": [],
      "_model_module": "@jupyter-widgets/controls",
      "_model_module_version": "1.5.0",
      "_model_name": "HTMLModel",
      "_view_count": null,
      "_view_module": "@jupyter-widgets/controls",
      "_view_module_version": "1.5.0",
      "_view_name": "HTMLView",
      "description": "",
      "description_tooltip": null,
      "layout": "IPY_MODEL_7bc859d5859f401da5686a4dacdfaeb0",
      "placeholder": "​",
      "style": "IPY_MODEL_31c6f4d795b0407e9115785392536676",
      "value": " 28.0/28.0 [00:00&lt;00:00, 1.28kB/s]"
     }
    },
    "09613552ed474b24a74a39ed93654f80": {
     "model_module": "@jupyter-widgets/base",
     "model_module_version": "1.2.0",
     "model_name": "LayoutModel",
     "state": {
      "_model_module": "@jupyter-widgets/base",
      "_model_module_version": "1.2.0",
      "_model_name": "LayoutModel",
      "_view_count": null,
      "_view_module": "@jupyter-widgets/base",
      "_view_module_version": "1.2.0",
      "_view_name": "LayoutView",
      "align_content": null,
      "align_items": null,
      "align_self": null,
      "border": null,
      "bottom": null,
      "display": null,
      "flex": null,
      "flex_flow": null,
      "grid_area": null,
      "grid_auto_columns": null,
      "grid_auto_flow": null,
      "grid_auto_rows": null,
      "grid_column": null,
      "grid_gap": null,
      "grid_row": null,
      "grid_template_areas": null,
      "grid_template_columns": null,
      "grid_template_rows": null,
      "height": null,
      "justify_content": null,
      "justify_items": null,
      "left": null,
      "margin": null,
      "max_height": null,
      "max_width": null,
      "min_height": null,
      "min_width": null,
      "object_fit": null,
      "object_position": null,
      "order": null,
      "overflow": null,
      "overflow_x": null,
      "overflow_y": null,
      "padding": null,
      "right": null,
      "top": null,
      "visibility": null,
      "width": null
     }
    },
    "0a4114654cab4cb586c3a219bb1664e4": {
     "model_module": "@jupyter-widgets/base",
     "model_module_version": "1.2.0",
     "model_name": "LayoutModel",
     "state": {
      "_model_module": "@jupyter-widgets/base",
      "_model_module_version": "1.2.0",
      "_model_name": "LayoutModel",
      "_view_count": null,
      "_view_module": "@jupyter-widgets/base",
      "_view_module_version": "1.2.0",
      "_view_name": "LayoutView",
      "align_content": null,
      "align_items": null,
      "align_self": null,
      "border": null,
      "bottom": null,
      "display": null,
      "flex": null,
      "flex_flow": null,
      "grid_area": null,
      "grid_auto_columns": null,
      "grid_auto_flow": null,
      "grid_auto_rows": null,
      "grid_column": null,
      "grid_gap": null,
      "grid_row": null,
      "grid_template_areas": null,
      "grid_template_columns": null,
      "grid_template_rows": null,
      "height": null,
      "justify_content": null,
      "justify_items": null,
      "left": null,
      "margin": null,
      "max_height": null,
      "max_width": null,
      "min_height": null,
      "min_width": null,
      "object_fit": null,
      "object_position": null,
      "order": null,
      "overflow": null,
      "overflow_x": null,
      "overflow_y": null,
      "padding": null,
      "right": null,
      "top": null,
      "visibility": null,
      "width": null
     }
    },
    "0a9a3b260b0b467e8898ead8224cbfb9": {
     "model_module": "@jupyter-widgets/controls",
     "model_module_version": "1.5.0",
     "model_name": "ProgressStyleModel",
     "state": {
      "_model_module": "@jupyter-widgets/controls",
      "_model_module_version": "1.5.0",
      "_model_name": "ProgressStyleModel",
      "_view_count": null,
      "_view_module": "@jupyter-widgets/base",
      "_view_module_version": "1.2.0",
      "_view_name": "StyleView",
      "bar_color": null,
      "description_width": ""
     }
    },
    "0ada0fdb9a004b2badd2b8da8ca7c2bf": {
     "model_module": "@jupyter-widgets/controls",
     "model_module_version": "1.5.0",
     "model_name": "HTMLModel",
     "state": {
      "_dom_classes": [],
      "_model_module": "@jupyter-widgets/controls",
      "_model_module_version": "1.5.0",
      "_model_name": "HTMLModel",
      "_view_count": null,
      "_view_module": "@jupyter-widgets/controls",
      "_view_module_version": "1.5.0",
      "_view_name": "HTMLView",
      "description": "",
      "description_tooltip": null,
      "layout": "IPY_MODEL_e37708804a884359b58c6a23a8a421fb",
      "placeholder": "​",
      "style": "IPY_MODEL_b92923a7888b459b88ac006c5d9413c2",
      "value": "model.safetensors: 100%"
     }
    },
    "0ade76ec5c6b46a386721be90ca66ff2": {
     "model_module": "@jupyter-widgets/controls",
     "model_module_version": "1.5.0",
     "model_name": "DescriptionStyleModel",
     "state": {
      "_model_module": "@jupyter-widgets/controls",
      "_model_module_version": "1.5.0",
      "_model_name": "DescriptionStyleModel",
      "_view_count": null,
      "_view_module": "@jupyter-widgets/base",
      "_view_module_version": "1.2.0",
      "_view_name": "StyleView",
      "description_width": ""
     }
    },
    "0d58373ee48f4e5c8575e0b67483057f": {
     "model_module": "@jupyter-widgets/controls",
     "model_module_version": "1.5.0",
     "model_name": "HBoxModel",
     "state": {
      "_dom_classes": [],
      "_model_module": "@jupyter-widgets/controls",
      "_model_module_version": "1.5.0",
      "_model_name": "HBoxModel",
      "_view_count": null,
      "_view_module": "@jupyter-widgets/controls",
      "_view_module_version": "1.5.0",
      "_view_name": "HBoxView",
      "box_style": "",
      "children": [
       "IPY_MODEL_c140a6ad290a4d34bdfd98596af2604e",
       "IPY_MODEL_bff9b3dcde01485cb18079f973265e14",
       "IPY_MODEL_06d06f925794444ab642441d090d9244"
      ],
      "layout": "IPY_MODEL_d289fd28e796419bae3a45f6c49b7d46"
     }
    },
    "0de950aa523b495db3a6d5584d661883": {
     "model_module": "@jupyter-widgets/controls",
     "model_module_version": "1.5.0",
     "model_name": "FloatProgressModel",
     "state": {
      "_dom_classes": [],
      "_model_module": "@jupyter-widgets/controls",
      "_model_module_version": "1.5.0",
      "_model_name": "FloatProgressModel",
      "_view_count": null,
      "_view_module": "@jupyter-widgets/controls",
      "_view_module_version": "1.5.0",
      "_view_name": "ProgressView",
      "bar_style": "success",
      "description": "",
      "description_tooltip": null,
      "layout": "IPY_MODEL_3faff3fb88b647ef898fddd1776e6822",
      "max": 570,
      "min": 0,
      "orientation": "horizontal",
      "style": "IPY_MODEL_41ee16ac14624916a1d322064463c7ef",
      "value": 570
     }
    },
    "16c8750500df4dfab2b7c22e1ded5f3c": {
     "model_module": "@jupyter-widgets/base",
     "model_module_version": "1.2.0",
     "model_name": "LayoutModel",
     "state": {
      "_model_module": "@jupyter-widgets/base",
      "_model_module_version": "1.2.0",
      "_model_name": "LayoutModel",
      "_view_count": null,
      "_view_module": "@jupyter-widgets/base",
      "_view_module_version": "1.2.0",
      "_view_name": "LayoutView",
      "align_content": null,
      "align_items": null,
      "align_self": null,
      "border": null,
      "bottom": null,
      "display": null,
      "flex": null,
      "flex_flow": null,
      "grid_area": null,
      "grid_auto_columns": null,
      "grid_auto_flow": null,
      "grid_auto_rows": null,
      "grid_column": null,
      "grid_gap": null,
      "grid_row": null,
      "grid_template_areas": null,
      "grid_template_columns": null,
      "grid_template_rows": null,
      "height": null,
      "justify_content": null,
      "justify_items": null,
      "left": null,
      "margin": null,
      "max_height": null,
      "max_width": null,
      "min_height": null,
      "min_width": null,
      "object_fit": null,
      "object_position": null,
      "order": null,
      "overflow": null,
      "overflow_x": null,
      "overflow_y": null,
      "padding": null,
      "right": null,
      "top": null,
      "visibility": null,
      "width": null
     }
    },
    "1acc218b13d84fdf9ce87bb414a72c95": {
     "model_module": "@jupyter-widgets/controls",
     "model_module_version": "1.5.0",
     "model_name": "HTMLModel",
     "state": {
      "_dom_classes": [],
      "_model_module": "@jupyter-widgets/controls",
      "_model_module_version": "1.5.0",
      "_model_name": "HTMLModel",
      "_view_count": null,
      "_view_module": "@jupyter-widgets/controls",
      "_view_module_version": "1.5.0",
      "_view_name": "HTMLView",
      "description": "",
      "description_tooltip": null,
      "layout": "IPY_MODEL_fd4b44a4c76547029cf59f9cc21c7148",
      "placeholder": "​",
      "style": "IPY_MODEL_3bc2eb0120be402797463cb09c905f3d",
      "value": " 570/570 [00:00&lt;00:00, 42.2kB/s]"
     }
    },
    "22ed0aeb818245bb8c4d78a1542e579e": {
     "model_module": "@jupyter-widgets/controls",
     "model_module_version": "1.5.0",
     "model_name": "HTMLModel",
     "state": {
      "_dom_classes": [],
      "_model_module": "@jupyter-widgets/controls",
      "_model_module_version": "1.5.0",
      "_model_name": "HTMLModel",
      "_view_count": null,
      "_view_module": "@jupyter-widgets/controls",
      "_view_module_version": "1.5.0",
      "_view_name": "HTMLView",
      "description": "",
      "description_tooltip": null,
      "layout": "IPY_MODEL_d14359d8aa944b8591cdfc39bf5e148a",
      "placeholder": "​",
      "style": "IPY_MODEL_f371822d670e4ab2968139edd63c6244",
      "value": "tokenizer.json: 100%"
     }
    },
    "25a15b31d8cd4b659284020915e955b0": {
     "model_module": "@jupyter-widgets/controls",
     "model_module_version": "1.5.0",
     "model_name": "FloatProgressModel",
     "state": {
      "_dom_classes": [],
      "_model_module": "@jupyter-widgets/controls",
      "_model_module_version": "1.5.0",
      "_model_name": "FloatProgressModel",
      "_view_count": null,
      "_view_module": "@jupyter-widgets/controls",
      "_view_module_version": "1.5.0",
      "_view_name": "ProgressView",
      "bar_style": "success",
      "description": "",
      "description_tooltip": null,
      "layout": "IPY_MODEL_c81cedfe1141474eb6e176e174828558",
      "max": 440449768,
      "min": 0,
      "orientation": "horizontal",
      "style": "IPY_MODEL_8c26c4ce79764dde94cb06dbb77ed5e9",
      "value": 440449768
     }
    },
    "28740e18ced24393b7f2e6e8699cae77": {
     "model_module": "@jupyter-widgets/controls",
     "model_module_version": "1.5.0",
     "model_name": "HTMLModel",
     "state": {
      "_dom_classes": [],
      "_model_module": "@jupyter-widgets/controls",
      "_model_module_version": "1.5.0",
      "_model_name": "HTMLModel",
      "_view_count": null,
      "_view_module": "@jupyter-widgets/controls",
      "_view_module_version": "1.5.0",
      "_view_name": "HTMLView",
      "description": "",
      "description_tooltip": null,
      "layout": "IPY_MODEL_7a96dc5ec85144b9ba7799fce00a951e",
      "placeholder": "​",
      "style": "IPY_MODEL_fb99abf8d73a49cabff8fb166632675d",
      "value": " 232k/232k [00:00&lt;00:00, 10.9MB/s]"
     }
    },
    "31c6f4d795b0407e9115785392536676": {
     "model_module": "@jupyter-widgets/controls",
     "model_module_version": "1.5.0",
     "model_name": "DescriptionStyleModel",
     "state": {
      "_model_module": "@jupyter-widgets/controls",
      "_model_module_version": "1.5.0",
      "_model_name": "DescriptionStyleModel",
      "_view_count": null,
      "_view_module": "@jupyter-widgets/base",
      "_view_module_version": "1.2.0",
      "_view_name": "StyleView",
      "description_width": ""
     }
    },
    "3754c52f885e46e7b8821dd41e3772c4": {
     "model_module": "@jupyter-widgets/controls",
     "model_module_version": "1.5.0",
     "model_name": "DescriptionStyleModel",
     "state": {
      "_model_module": "@jupyter-widgets/controls",
      "_model_module_version": "1.5.0",
      "_model_name": "DescriptionStyleModel",
      "_view_count": null,
      "_view_module": "@jupyter-widgets/base",
      "_view_module_version": "1.2.0",
      "_view_name": "StyleView",
      "description_width": ""
     }
    },
    "3b260a5f44454bb2beb5baf2f84bce7e": {
     "model_module": "@jupyter-widgets/controls",
     "model_module_version": "1.5.0",
     "model_name": "HBoxModel",
     "state": {
      "_dom_classes": [],
      "_model_module": "@jupyter-widgets/controls",
      "_model_module_version": "1.5.0",
      "_model_name": "HBoxModel",
      "_view_count": null,
      "_view_module": "@jupyter-widgets/controls",
      "_view_module_version": "1.5.0",
      "_view_name": "HBoxView",
      "box_style": "",
      "children": [
       "IPY_MODEL_0ada0fdb9a004b2badd2b8da8ca7c2bf",
       "IPY_MODEL_25a15b31d8cd4b659284020915e955b0",
       "IPY_MODEL_5886811386ab479ca92ca46135c6394b"
      ],
      "layout": "IPY_MODEL_16c8750500df4dfab2b7c22e1ded5f3c"
     }
    },
    "3bc2eb0120be402797463cb09c905f3d": {
     "model_module": "@jupyter-widgets/controls",
     "model_module_version": "1.5.0",
     "model_name": "DescriptionStyleModel",
     "state": {
      "_model_module": "@jupyter-widgets/controls",
      "_model_module_version": "1.5.0",
      "_model_name": "DescriptionStyleModel",
      "_view_count": null,
      "_view_module": "@jupyter-widgets/base",
      "_view_module_version": "1.2.0",
      "_view_name": "StyleView",
      "description_width": ""
     }
    },
    "3faff3fb88b647ef898fddd1776e6822": {
     "model_module": "@jupyter-widgets/base",
     "model_module_version": "1.2.0",
     "model_name": "LayoutModel",
     "state": {
      "_model_module": "@jupyter-widgets/base",
      "_model_module_version": "1.2.0",
      "_model_name": "LayoutModel",
      "_view_count": null,
      "_view_module": "@jupyter-widgets/base",
      "_view_module_version": "1.2.0",
      "_view_name": "LayoutView",
      "align_content": null,
      "align_items": null,
      "align_self": null,
      "border": null,
      "bottom": null,
      "display": null,
      "flex": null,
      "flex_flow": null,
      "grid_area": null,
      "grid_auto_columns": null,
      "grid_auto_flow": null,
      "grid_auto_rows": null,
      "grid_column": null,
      "grid_gap": null,
      "grid_row": null,
      "grid_template_areas": null,
      "grid_template_columns": null,
      "grid_template_rows": null,
      "height": null,
      "justify_content": null,
      "justify_items": null,
      "left": null,
      "margin": null,
      "max_height": null,
      "max_width": null,
      "min_height": null,
      "min_width": null,
      "object_fit": null,
      "object_position": null,
      "order": null,
      "overflow": null,
      "overflow_x": null,
      "overflow_y": null,
      "padding": null,
      "right": null,
      "top": null,
      "visibility": null,
      "width": null
     }
    },
    "406a065a73874e008810b24610b0d3ad": {
     "model_module": "@jupyter-widgets/base",
     "model_module_version": "1.2.0",
     "model_name": "LayoutModel",
     "state": {
      "_model_module": "@jupyter-widgets/base",
      "_model_module_version": "1.2.0",
      "_model_name": "LayoutModel",
      "_view_count": null,
      "_view_module": "@jupyter-widgets/base",
      "_view_module_version": "1.2.0",
      "_view_name": "LayoutView",
      "align_content": null,
      "align_items": null,
      "align_self": null,
      "border": null,
      "bottom": null,
      "display": null,
      "flex": null,
      "flex_flow": null,
      "grid_area": null,
      "grid_auto_columns": null,
      "grid_auto_flow": null,
      "grid_auto_rows": null,
      "grid_column": null,
      "grid_gap": null,
      "grid_row": null,
      "grid_template_areas": null,
      "grid_template_columns": null,
      "grid_template_rows": null,
      "height": null,
      "justify_content": null,
      "justify_items": null,
      "left": null,
      "margin": null,
      "max_height": null,
      "max_width": null,
      "min_height": null,
      "min_width": null,
      "object_fit": null,
      "object_position": null,
      "order": null,
      "overflow": null,
      "overflow_x": null,
      "overflow_y": null,
      "padding": null,
      "right": null,
      "top": null,
      "visibility": null,
      "width": null
     }
    },
    "41ee16ac14624916a1d322064463c7ef": {
     "model_module": "@jupyter-widgets/controls",
     "model_module_version": "1.5.0",
     "model_name": "ProgressStyleModel",
     "state": {
      "_model_module": "@jupyter-widgets/controls",
      "_model_module_version": "1.5.0",
      "_model_name": "ProgressStyleModel",
      "_view_count": null,
      "_view_module": "@jupyter-widgets/base",
      "_view_module_version": "1.2.0",
      "_view_name": "StyleView",
      "bar_color": null,
      "description_width": ""
     }
    },
    "455b1115bccd45bf8341850ff0bb6770": {
     "model_module": "@jupyter-widgets/base",
     "model_module_version": "1.2.0",
     "model_name": "LayoutModel",
     "state": {
      "_model_module": "@jupyter-widgets/base",
      "_model_module_version": "1.2.0",
      "_model_name": "LayoutModel",
      "_view_count": null,
      "_view_module": "@jupyter-widgets/base",
      "_view_module_version": "1.2.0",
      "_view_name": "LayoutView",
      "align_content": null,
      "align_items": null,
      "align_self": null,
      "border": null,
      "bottom": null,
      "display": null,
      "flex": null,
      "flex_flow": null,
      "grid_area": null,
      "grid_auto_columns": null,
      "grid_auto_flow": null,
      "grid_auto_rows": null,
      "grid_column": null,
      "grid_gap": null,
      "grid_row": null,
      "grid_template_areas": null,
      "grid_template_columns": null,
      "grid_template_rows": null,
      "height": null,
      "justify_content": null,
      "justify_items": null,
      "left": null,
      "margin": null,
      "max_height": null,
      "max_width": null,
      "min_height": null,
      "min_width": null,
      "object_fit": null,
      "object_position": null,
      "order": null,
      "overflow": null,
      "overflow_x": null,
      "overflow_y": null,
      "padding": null,
      "right": null,
      "top": null,
      "visibility": null,
      "width": null
     }
    },
    "4a2de396d343479aafe16f2b1f749c5f": {
     "model_module": "@jupyter-widgets/controls",
     "model_module_version": "1.5.0",
     "model_name": "HTMLModel",
     "state": {
      "_dom_classes": [],
      "_model_module": "@jupyter-widgets/controls",
      "_model_module_version": "1.5.0",
      "_model_name": "HTMLModel",
      "_view_count": null,
      "_view_module": "@jupyter-widgets/controls",
      "_view_module_version": "1.5.0",
      "_view_name": "HTMLView",
      "description": "",
      "description_tooltip": null,
      "layout": "IPY_MODEL_09613552ed474b24a74a39ed93654f80",
      "placeholder": "​",
      "style": "IPY_MODEL_9c16669825c4441d8eb370cc13b128f7",
      "value": " 466k/466k [00:00&lt;00:00, 25.3MB/s]"
     }
    },
    "4dff59f1892446a095a6254dcad98e24": {
     "model_module": "@jupyter-widgets/controls",
     "model_module_version": "1.5.0",
     "model_name": "DescriptionStyleModel",
     "state": {
      "_model_module": "@jupyter-widgets/controls",
      "_model_module_version": "1.5.0",
      "_model_name": "DescriptionStyleModel",
      "_view_count": null,
      "_view_module": "@jupyter-widgets/base",
      "_view_module_version": "1.2.0",
      "_view_name": "StyleView",
      "description_width": ""
     }
    },
    "5522d2c07233481e8bff89cb7bf66151": {
     "model_module": "@jupyter-widgets/controls",
     "model_module_version": "1.5.0",
     "model_name": "HBoxModel",
     "state": {
      "_dom_classes": [],
      "_model_module": "@jupyter-widgets/controls",
      "_model_module_version": "1.5.0",
      "_model_name": "HBoxModel",
      "_view_count": null,
      "_view_module": "@jupyter-widgets/controls",
      "_view_module_version": "1.5.0",
      "_view_name": "HBoxView",
      "box_style": "",
      "children": [
       "IPY_MODEL_22ed0aeb818245bb8c4d78a1542e579e",
       "IPY_MODEL_582df62da81241c0810e9a1b0bbb504d",
       "IPY_MODEL_4a2de396d343479aafe16f2b1f749c5f"
      ],
      "layout": "IPY_MODEL_455b1115bccd45bf8341850ff0bb6770"
     }
    },
    "582df62da81241c0810e9a1b0bbb504d": {
     "model_module": "@jupyter-widgets/controls",
     "model_module_version": "1.5.0",
     "model_name": "FloatProgressModel",
     "state": {
      "_dom_classes": [],
      "_model_module": "@jupyter-widgets/controls",
      "_model_module_version": "1.5.0",
      "_model_name": "FloatProgressModel",
      "_view_count": null,
      "_view_module": "@jupyter-widgets/controls",
      "_view_module_version": "1.5.0",
      "_view_name": "ProgressView",
      "bar_style": "success",
      "description": "",
      "description_tooltip": null,
      "layout": "IPY_MODEL_406a065a73874e008810b24610b0d3ad",
      "max": 466062,
      "min": 0,
      "orientation": "horizontal",
      "style": "IPY_MODEL_858a84b168454321a84f4f352c1a3119",
      "value": 466062
     }
    },
    "5886811386ab479ca92ca46135c6394b": {
     "model_module": "@jupyter-widgets/controls",
     "model_module_version": "1.5.0",
     "model_name": "HTMLModel",
     "state": {
      "_dom_classes": [],
      "_model_module": "@jupyter-widgets/controls",
      "_model_module_version": "1.5.0",
      "_model_name": "HTMLModel",
      "_view_count": null,
      "_view_module": "@jupyter-widgets/controls",
      "_view_module_version": "1.5.0",
      "_view_name": "HTMLView",
      "description": "",
      "description_tooltip": null,
      "layout": "IPY_MODEL_d19b95dc017e4d5dacb15a1431467cbc",
      "placeholder": "​",
      "style": "IPY_MODEL_3754c52f885e46e7b8821dd41e3772c4",
      "value": " 440M/440M [00:01&lt;00:00, 340MB/s]"
     }
    },
    "7a96dc5ec85144b9ba7799fce00a951e": {
     "model_module": "@jupyter-widgets/base",
     "model_module_version": "1.2.0",
     "model_name": "LayoutModel",
     "state": {
      "_model_module": "@jupyter-widgets/base",
      "_model_module_version": "1.2.0",
      "_model_name": "LayoutModel",
      "_view_count": null,
      "_view_module": "@jupyter-widgets/base",
      "_view_module_version": "1.2.0",
      "_view_name": "LayoutView",
      "align_content": null,
      "align_items": null,
      "align_self": null,
      "border": null,
      "bottom": null,
      "display": null,
      "flex": null,
      "flex_flow": null,
      "grid_area": null,
      "grid_auto_columns": null,
      "grid_auto_flow": null,
      "grid_auto_rows": null,
      "grid_column": null,
      "grid_gap": null,
      "grid_row": null,
      "grid_template_areas": null,
      "grid_template_columns": null,
      "grid_template_rows": null,
      "height": null,
      "justify_content": null,
      "justify_items": null,
      "left": null,
      "margin": null,
      "max_height": null,
      "max_width": null,
      "min_height": null,
      "min_width": null,
      "object_fit": null,
      "object_position": null,
      "order": null,
      "overflow": null,
      "overflow_x": null,
      "overflow_y": null,
      "padding": null,
      "right": null,
      "top": null,
      "visibility": null,
      "width": null
     }
    },
    "7ae08bf63f704b9bbed47b195833e243": {
     "model_module": "@jupyter-widgets/base",
     "model_module_version": "1.2.0",
     "model_name": "LayoutModel",
     "state": {
      "_model_module": "@jupyter-widgets/base",
      "_model_module_version": "1.2.0",
      "_model_name": "LayoutModel",
      "_view_count": null,
      "_view_module": "@jupyter-widgets/base",
      "_view_module_version": "1.2.0",
      "_view_name": "LayoutView",
      "align_content": null,
      "align_items": null,
      "align_self": null,
      "border": null,
      "bottom": null,
      "display": null,
      "flex": null,
      "flex_flow": null,
      "grid_area": null,
      "grid_auto_columns": null,
      "grid_auto_flow": null,
      "grid_auto_rows": null,
      "grid_column": null,
      "grid_gap": null,
      "grid_row": null,
      "grid_template_areas": null,
      "grid_template_columns": null,
      "grid_template_rows": null,
      "height": null,
      "justify_content": null,
      "justify_items": null,
      "left": null,
      "margin": null,
      "max_height": null,
      "max_width": null,
      "min_height": null,
      "min_width": null,
      "object_fit": null,
      "object_position": null,
      "order": null,
      "overflow": null,
      "overflow_x": null,
      "overflow_y": null,
      "padding": null,
      "right": null,
      "top": null,
      "visibility": null,
      "width": null
     }
    },
    "7bc859d5859f401da5686a4dacdfaeb0": {
     "model_module": "@jupyter-widgets/base",
     "model_module_version": "1.2.0",
     "model_name": "LayoutModel",
     "state": {
      "_model_module": "@jupyter-widgets/base",
      "_model_module_version": "1.2.0",
      "_model_name": "LayoutModel",
      "_view_count": null,
      "_view_module": "@jupyter-widgets/base",
      "_view_module_version": "1.2.0",
      "_view_name": "LayoutView",
      "align_content": null,
      "align_items": null,
      "align_self": null,
      "border": null,
      "bottom": null,
      "display": null,
      "flex": null,
      "flex_flow": null,
      "grid_area": null,
      "grid_auto_columns": null,
      "grid_auto_flow": null,
      "grid_auto_rows": null,
      "grid_column": null,
      "grid_gap": null,
      "grid_row": null,
      "grid_template_areas": null,
      "grid_template_columns": null,
      "grid_template_rows": null,
      "height": null,
      "justify_content": null,
      "justify_items": null,
      "left": null,
      "margin": null,
      "max_height": null,
      "max_width": null,
      "min_height": null,
      "min_width": null,
      "object_fit": null,
      "object_position": null,
      "order": null,
      "overflow": null,
      "overflow_x": null,
      "overflow_y": null,
      "padding": null,
      "right": null,
      "top": null,
      "visibility": null,
      "width": null
     }
    },
    "7e5e34630a524be892e419a9510e8f6a": {
     "model_module": "@jupyter-widgets/controls",
     "model_module_version": "1.5.0",
     "model_name": "HBoxModel",
     "state": {
      "_dom_classes": [],
      "_model_module": "@jupyter-widgets/controls",
      "_model_module_version": "1.5.0",
      "_model_name": "HBoxModel",
      "_view_count": null,
      "_view_module": "@jupyter-widgets/controls",
      "_view_module_version": "1.5.0",
      "_view_name": "HBoxView",
      "box_style": "",
      "children": [
       "IPY_MODEL_f3d502601d0c433db39b5aa9c7ee9d0d",
       "IPY_MODEL_8dad35b536dd474dbc962000a67d6b6a",
       "IPY_MODEL_28740e18ced24393b7f2e6e8699cae77"
      ],
      "layout": "IPY_MODEL_9d715803bef34b51a06539154ed095e1"
     }
    },
    "858a84b168454321a84f4f352c1a3119": {
     "model_module": "@jupyter-widgets/controls",
     "model_module_version": "1.5.0",
     "model_name": "ProgressStyleModel",
     "state": {
      "_model_module": "@jupyter-widgets/controls",
      "_model_module_version": "1.5.0",
      "_model_name": "ProgressStyleModel",
      "_view_count": null,
      "_view_module": "@jupyter-widgets/base",
      "_view_module_version": "1.2.0",
      "_view_name": "StyleView",
      "bar_color": null,
      "description_width": ""
     }
    },
    "8c26c4ce79764dde94cb06dbb77ed5e9": {
     "model_module": "@jupyter-widgets/controls",
     "model_module_version": "1.5.0",
     "model_name": "ProgressStyleModel",
     "state": {
      "_model_module": "@jupyter-widgets/controls",
      "_model_module_version": "1.5.0",
      "_model_name": "ProgressStyleModel",
      "_view_count": null,
      "_view_module": "@jupyter-widgets/base",
      "_view_module_version": "1.2.0",
      "_view_name": "StyleView",
      "bar_color": null,
      "description_width": ""
     }
    },
    "8dad35b536dd474dbc962000a67d6b6a": {
     "model_module": "@jupyter-widgets/controls",
     "model_module_version": "1.5.0",
     "model_name": "FloatProgressModel",
     "state": {
      "_dom_classes": [],
      "_model_module": "@jupyter-widgets/controls",
      "_model_module_version": "1.5.0",
      "_model_name": "FloatProgressModel",
      "_view_count": null,
      "_view_module": "@jupyter-widgets/controls",
      "_view_module_version": "1.5.0",
      "_view_name": "ProgressView",
      "bar_style": "success",
      "description": "",
      "description_tooltip": null,
      "layout": "IPY_MODEL_01012429bdf54d219186ef57f5b7b657",
      "max": 231508,
      "min": 0,
      "orientation": "horizontal",
      "style": "IPY_MODEL_0a9a3b260b0b467e8898ead8224cbfb9",
      "value": 231508
     }
    },
    "8f739dcaf4244250956013cfb86bfa5e": {
     "model_module": "@jupyter-widgets/controls",
     "model_module_version": "1.5.0",
     "model_name": "ProgressStyleModel",
     "state": {
      "_model_module": "@jupyter-widgets/controls",
      "_model_module_version": "1.5.0",
      "_model_name": "ProgressStyleModel",
      "_view_count": null,
      "_view_module": "@jupyter-widgets/base",
      "_view_module_version": "1.2.0",
      "_view_name": "StyleView",
      "bar_color": null,
      "description_width": ""
     }
    },
    "9c16669825c4441d8eb370cc13b128f7": {
     "model_module": "@jupyter-widgets/controls",
     "model_module_version": "1.5.0",
     "model_name": "DescriptionStyleModel",
     "state": {
      "_model_module": "@jupyter-widgets/controls",
      "_model_module_version": "1.5.0",
      "_model_name": "DescriptionStyleModel",
      "_view_count": null,
      "_view_module": "@jupyter-widgets/base",
      "_view_module_version": "1.2.0",
      "_view_name": "StyleView",
      "description_width": ""
     }
    },
    "9d715803bef34b51a06539154ed095e1": {
     "model_module": "@jupyter-widgets/base",
     "model_module_version": "1.2.0",
     "model_name": "LayoutModel",
     "state": {
      "_model_module": "@jupyter-widgets/base",
      "_model_module_version": "1.2.0",
      "_model_name": "LayoutModel",
      "_view_count": null,
      "_view_module": "@jupyter-widgets/base",
      "_view_module_version": "1.2.0",
      "_view_name": "LayoutView",
      "align_content": null,
      "align_items": null,
      "align_self": null,
      "border": null,
      "bottom": null,
      "display": null,
      "flex": null,
      "flex_flow": null,
      "grid_area": null,
      "grid_auto_columns": null,
      "grid_auto_flow": null,
      "grid_auto_rows": null,
      "grid_column": null,
      "grid_gap": null,
      "grid_row": null,
      "grid_template_areas": null,
      "grid_template_columns": null,
      "grid_template_rows": null,
      "height": null,
      "justify_content": null,
      "justify_items": null,
      "left": null,
      "margin": null,
      "max_height": null,
      "max_width": null,
      "min_height": null,
      "min_width": null,
      "object_fit": null,
      "object_position": null,
      "order": null,
      "overflow": null,
      "overflow_x": null,
      "overflow_y": null,
      "padding": null,
      "right": null,
      "top": null,
      "visibility": null,
      "width": null
     }
    },
    "a9d3e091dfb94f72b78a73767fa26de3": {
     "model_module": "@jupyter-widgets/controls",
     "model_module_version": "1.5.0",
     "model_name": "DescriptionStyleModel",
     "state": {
      "_model_module": "@jupyter-widgets/controls",
      "_model_module_version": "1.5.0",
      "_model_name": "DescriptionStyleModel",
      "_view_count": null,
      "_view_module": "@jupyter-widgets/base",
      "_view_module_version": "1.2.0",
      "_view_name": "StyleView",
      "description_width": ""
     }
    },
    "b6ffbe89b0704afda1687f3bfd6d31af": {
     "model_module": "@jupyter-widgets/base",
     "model_module_version": "1.2.0",
     "model_name": "LayoutModel",
     "state": {
      "_model_module": "@jupyter-widgets/base",
      "_model_module_version": "1.2.0",
      "_model_name": "LayoutModel",
      "_view_count": null,
      "_view_module": "@jupyter-widgets/base",
      "_view_module_version": "1.2.0",
      "_view_name": "LayoutView",
      "align_content": null,
      "align_items": null,
      "align_self": null,
      "border": null,
      "bottom": null,
      "display": null,
      "flex": null,
      "flex_flow": null,
      "grid_area": null,
      "grid_auto_columns": null,
      "grid_auto_flow": null,
      "grid_auto_rows": null,
      "grid_column": null,
      "grid_gap": null,
      "grid_row": null,
      "grid_template_areas": null,
      "grid_template_columns": null,
      "grid_template_rows": null,
      "height": null,
      "justify_content": null,
      "justify_items": null,
      "left": null,
      "margin": null,
      "max_height": null,
      "max_width": null,
      "min_height": null,
      "min_width": null,
      "object_fit": null,
      "object_position": null,
      "order": null,
      "overflow": null,
      "overflow_x": null,
      "overflow_y": null,
      "padding": null,
      "right": null,
      "top": null,
      "visibility": null,
      "width": null
     }
    },
    "b92923a7888b459b88ac006c5d9413c2": {
     "model_module": "@jupyter-widgets/controls",
     "model_module_version": "1.5.0",
     "model_name": "DescriptionStyleModel",
     "state": {
      "_model_module": "@jupyter-widgets/controls",
      "_model_module_version": "1.5.0",
      "_model_name": "DescriptionStyleModel",
      "_view_count": null,
      "_view_module": "@jupyter-widgets/base",
      "_view_module_version": "1.2.0",
      "_view_name": "StyleView",
      "description_width": ""
     }
    },
    "bff9b3dcde01485cb18079f973265e14": {
     "model_module": "@jupyter-widgets/controls",
     "model_module_version": "1.5.0",
     "model_name": "FloatProgressModel",
     "state": {
      "_dom_classes": [],
      "_model_module": "@jupyter-widgets/controls",
      "_model_module_version": "1.5.0",
      "_model_name": "FloatProgressModel",
      "_view_count": null,
      "_view_module": "@jupyter-widgets/controls",
      "_view_module_version": "1.5.0",
      "_view_name": "ProgressView",
      "bar_style": "success",
      "description": "",
      "description_tooltip": null,
      "layout": "IPY_MODEL_b6ffbe89b0704afda1687f3bfd6d31af",
      "max": 28,
      "min": 0,
      "orientation": "horizontal",
      "style": "IPY_MODEL_8f739dcaf4244250956013cfb86bfa5e",
      "value": 28
     }
    },
    "c140a6ad290a4d34bdfd98596af2604e": {
     "model_module": "@jupyter-widgets/controls",
     "model_module_version": "1.5.0",
     "model_name": "HTMLModel",
     "state": {
      "_dom_classes": [],
      "_model_module": "@jupyter-widgets/controls",
      "_model_module_version": "1.5.0",
      "_model_name": "HTMLModel",
      "_view_count": null,
      "_view_module": "@jupyter-widgets/controls",
      "_view_module_version": "1.5.0",
      "_view_name": "HTMLView",
      "description": "",
      "description_tooltip": null,
      "layout": "IPY_MODEL_fef98eecd7944a9a8c89ce4fed60b843",
      "placeholder": "​",
      "style": "IPY_MODEL_4dff59f1892446a095a6254dcad98e24",
      "value": "tokenizer_config.json: 100%"
     }
    },
    "c81cedfe1141474eb6e176e174828558": {
     "model_module": "@jupyter-widgets/base",
     "model_module_version": "1.2.0",
     "model_name": "LayoutModel",
     "state": {
      "_model_module": "@jupyter-widgets/base",
      "_model_module_version": "1.2.0",
      "_model_name": "LayoutModel",
      "_view_count": null,
      "_view_module": "@jupyter-widgets/base",
      "_view_module_version": "1.2.0",
      "_view_name": "LayoutView",
      "align_content": null,
      "align_items": null,
      "align_self": null,
      "border": null,
      "bottom": null,
      "display": null,
      "flex": null,
      "flex_flow": null,
      "grid_area": null,
      "grid_auto_columns": null,
      "grid_auto_flow": null,
      "grid_auto_rows": null,
      "grid_column": null,
      "grid_gap": null,
      "grid_row": null,
      "grid_template_areas": null,
      "grid_template_columns": null,
      "grid_template_rows": null,
      "height": null,
      "justify_content": null,
      "justify_items": null,
      "left": null,
      "margin": null,
      "max_height": null,
      "max_width": null,
      "min_height": null,
      "min_width": null,
      "object_fit": null,
      "object_position": null,
      "order": null,
      "overflow": null,
      "overflow_x": null,
      "overflow_y": null,
      "padding": null,
      "right": null,
      "top": null,
      "visibility": null,
      "width": null
     }
    },
    "ca63e3a15eab42a980c9c814379bccfb": {
     "model_module": "@jupyter-widgets/controls",
     "model_module_version": "1.5.0",
     "model_name": "HBoxModel",
     "state": {
      "_dom_classes": [],
      "_model_module": "@jupyter-widgets/controls",
      "_model_module_version": "1.5.0",
      "_model_name": "HBoxModel",
      "_view_count": null,
      "_view_module": "@jupyter-widgets/controls",
      "_view_module_version": "1.5.0",
      "_view_name": "HBoxView",
      "box_style": "",
      "children": [
       "IPY_MODEL_f4ce7011a692463aa5ce1bdfc8ecbb79",
       "IPY_MODEL_0de950aa523b495db3a6d5584d661883",
       "IPY_MODEL_1acc218b13d84fdf9ce87bb414a72c95"
      ],
      "layout": "IPY_MODEL_7ae08bf63f704b9bbed47b195833e243"
     }
    },
    "d14359d8aa944b8591cdfc39bf5e148a": {
     "model_module": "@jupyter-widgets/base",
     "model_module_version": "1.2.0",
     "model_name": "LayoutModel",
     "state": {
      "_model_module": "@jupyter-widgets/base",
      "_model_module_version": "1.2.0",
      "_model_name": "LayoutModel",
      "_view_count": null,
      "_view_module": "@jupyter-widgets/base",
      "_view_module_version": "1.2.0",
      "_view_name": "LayoutView",
      "align_content": null,
      "align_items": null,
      "align_self": null,
      "border": null,
      "bottom": null,
      "display": null,
      "flex": null,
      "flex_flow": null,
      "grid_area": null,
      "grid_auto_columns": null,
      "grid_auto_flow": null,
      "grid_auto_rows": null,
      "grid_column": null,
      "grid_gap": null,
      "grid_row": null,
      "grid_template_areas": null,
      "grid_template_columns": null,
      "grid_template_rows": null,
      "height": null,
      "justify_content": null,
      "justify_items": null,
      "left": null,
      "margin": null,
      "max_height": null,
      "max_width": null,
      "min_height": null,
      "min_width": null,
      "object_fit": null,
      "object_position": null,
      "order": null,
      "overflow": null,
      "overflow_x": null,
      "overflow_y": null,
      "padding": null,
      "right": null,
      "top": null,
      "visibility": null,
      "width": null
     }
    },
    "d19b95dc017e4d5dacb15a1431467cbc": {
     "model_module": "@jupyter-widgets/base",
     "model_module_version": "1.2.0",
     "model_name": "LayoutModel",
     "state": {
      "_model_module": "@jupyter-widgets/base",
      "_model_module_version": "1.2.0",
      "_model_name": "LayoutModel",
      "_view_count": null,
      "_view_module": "@jupyter-widgets/base",
      "_view_module_version": "1.2.0",
      "_view_name": "LayoutView",
      "align_content": null,
      "align_items": null,
      "align_self": null,
      "border": null,
      "bottom": null,
      "display": null,
      "flex": null,
      "flex_flow": null,
      "grid_area": null,
      "grid_auto_columns": null,
      "grid_auto_flow": null,
      "grid_auto_rows": null,
      "grid_column": null,
      "grid_gap": null,
      "grid_row": null,
      "grid_template_areas": null,
      "grid_template_columns": null,
      "grid_template_rows": null,
      "height": null,
      "justify_content": null,
      "justify_items": null,
      "left": null,
      "margin": null,
      "max_height": null,
      "max_width": null,
      "min_height": null,
      "min_width": null,
      "object_fit": null,
      "object_position": null,
      "order": null,
      "overflow": null,
      "overflow_x": null,
      "overflow_y": null,
      "padding": null,
      "right": null,
      "top": null,
      "visibility": null,
      "width": null
     }
    },
    "d289fd28e796419bae3a45f6c49b7d46": {
     "model_module": "@jupyter-widgets/base",
     "model_module_version": "1.2.0",
     "model_name": "LayoutModel",
     "state": {
      "_model_module": "@jupyter-widgets/base",
      "_model_module_version": "1.2.0",
      "_model_name": "LayoutModel",
      "_view_count": null,
      "_view_module": "@jupyter-widgets/base",
      "_view_module_version": "1.2.0",
      "_view_name": "LayoutView",
      "align_content": null,
      "align_items": null,
      "align_self": null,
      "border": null,
      "bottom": null,
      "display": null,
      "flex": null,
      "flex_flow": null,
      "grid_area": null,
      "grid_auto_columns": null,
      "grid_auto_flow": null,
      "grid_auto_rows": null,
      "grid_column": null,
      "grid_gap": null,
      "grid_row": null,
      "grid_template_areas": null,
      "grid_template_columns": null,
      "grid_template_rows": null,
      "height": null,
      "justify_content": null,
      "justify_items": null,
      "left": null,
      "margin": null,
      "max_height": null,
      "max_width": null,
      "min_height": null,
      "min_width": null,
      "object_fit": null,
      "object_position": null,
      "order": null,
      "overflow": null,
      "overflow_x": null,
      "overflow_y": null,
      "padding": null,
      "right": null,
      "top": null,
      "visibility": null,
      "width": null
     }
    },
    "e37708804a884359b58c6a23a8a421fb": {
     "model_module": "@jupyter-widgets/base",
     "model_module_version": "1.2.0",
     "model_name": "LayoutModel",
     "state": {
      "_model_module": "@jupyter-widgets/base",
      "_model_module_version": "1.2.0",
      "_model_name": "LayoutModel",
      "_view_count": null,
      "_view_module": "@jupyter-widgets/base",
      "_view_module_version": "1.2.0",
      "_view_name": "LayoutView",
      "align_content": null,
      "align_items": null,
      "align_self": null,
      "border": null,
      "bottom": null,
      "display": null,
      "flex": null,
      "flex_flow": null,
      "grid_area": null,
      "grid_auto_columns": null,
      "grid_auto_flow": null,
      "grid_auto_rows": null,
      "grid_column": null,
      "grid_gap": null,
      "grid_row": null,
      "grid_template_areas": null,
      "grid_template_columns": null,
      "grid_template_rows": null,
      "height": null,
      "justify_content": null,
      "justify_items": null,
      "left": null,
      "margin": null,
      "max_height": null,
      "max_width": null,
      "min_height": null,
      "min_width": null,
      "object_fit": null,
      "object_position": null,
      "order": null,
      "overflow": null,
      "overflow_x": null,
      "overflow_y": null,
      "padding": null,
      "right": null,
      "top": null,
      "visibility": null,
      "width": null
     }
    },
    "efaedccee5b44d4cb392842b57deb12d": {
     "model_module": "@jupyter-widgets/base",
     "model_module_version": "1.2.0",
     "model_name": "LayoutModel",
     "state": {
      "_model_module": "@jupyter-widgets/base",
      "_model_module_version": "1.2.0",
      "_model_name": "LayoutModel",
      "_view_count": null,
      "_view_module": "@jupyter-widgets/base",
      "_view_module_version": "1.2.0",
      "_view_name": "LayoutView",
      "align_content": null,
      "align_items": null,
      "align_self": null,
      "border": null,
      "bottom": null,
      "display": null,
      "flex": null,
      "flex_flow": null,
      "grid_area": null,
      "grid_auto_columns": null,
      "grid_auto_flow": null,
      "grid_auto_rows": null,
      "grid_column": null,
      "grid_gap": null,
      "grid_row": null,
      "grid_template_areas": null,
      "grid_template_columns": null,
      "grid_template_rows": null,
      "height": null,
      "justify_content": null,
      "justify_items": null,
      "left": null,
      "margin": null,
      "max_height": null,
      "max_width": null,
      "min_height": null,
      "min_width": null,
      "object_fit": null,
      "object_position": null,
      "order": null,
      "overflow": null,
      "overflow_x": null,
      "overflow_y": null,
      "padding": null,
      "right": null,
      "top": null,
      "visibility": null,
      "width": null
     }
    },
    "f371822d670e4ab2968139edd63c6244": {
     "model_module": "@jupyter-widgets/controls",
     "model_module_version": "1.5.0",
     "model_name": "DescriptionStyleModel",
     "state": {
      "_model_module": "@jupyter-widgets/controls",
      "_model_module_version": "1.5.0",
      "_model_name": "DescriptionStyleModel",
      "_view_count": null,
      "_view_module": "@jupyter-widgets/base",
      "_view_module_version": "1.2.0",
      "_view_name": "StyleView",
      "description_width": ""
     }
    },
    "f3d502601d0c433db39b5aa9c7ee9d0d": {
     "model_module": "@jupyter-widgets/controls",
     "model_module_version": "1.5.0",
     "model_name": "HTMLModel",
     "state": {
      "_dom_classes": [],
      "_model_module": "@jupyter-widgets/controls",
      "_model_module_version": "1.5.0",
      "_model_name": "HTMLModel",
      "_view_count": null,
      "_view_module": "@jupyter-widgets/controls",
      "_view_module_version": "1.5.0",
      "_view_name": "HTMLView",
      "description": "",
      "description_tooltip": null,
      "layout": "IPY_MODEL_0a4114654cab4cb586c3a219bb1664e4",
      "placeholder": "​",
      "style": "IPY_MODEL_0ade76ec5c6b46a386721be90ca66ff2",
      "value": "vocab.txt: 100%"
     }
    },
    "f4ce7011a692463aa5ce1bdfc8ecbb79": {
     "model_module": "@jupyter-widgets/controls",
     "model_module_version": "1.5.0",
     "model_name": "HTMLModel",
     "state": {
      "_dom_classes": [],
      "_model_module": "@jupyter-widgets/controls",
      "_model_module_version": "1.5.0",
      "_model_name": "HTMLModel",
      "_view_count": null,
      "_view_module": "@jupyter-widgets/controls",
      "_view_module_version": "1.5.0",
      "_view_name": "HTMLView",
      "description": "",
      "description_tooltip": null,
      "layout": "IPY_MODEL_efaedccee5b44d4cb392842b57deb12d",
      "placeholder": "​",
      "style": "IPY_MODEL_a9d3e091dfb94f72b78a73767fa26de3",
      "value": "config.json: 100%"
     }
    },
    "fb99abf8d73a49cabff8fb166632675d": {
     "model_module": "@jupyter-widgets/controls",
     "model_module_version": "1.5.0",
     "model_name": "DescriptionStyleModel",
     "state": {
      "_model_module": "@jupyter-widgets/controls",
      "_model_module_version": "1.5.0",
      "_model_name": "DescriptionStyleModel",
      "_view_count": null,
      "_view_module": "@jupyter-widgets/base",
      "_view_module_version": "1.2.0",
      "_view_name": "StyleView",
      "description_width": ""
     }
    },
    "fd4b44a4c76547029cf59f9cc21c7148": {
     "model_module": "@jupyter-widgets/base",
     "model_module_version": "1.2.0",
     "model_name": "LayoutModel",
     "state": {
      "_model_module": "@jupyter-widgets/base",
      "_model_module_version": "1.2.0",
      "_model_name": "LayoutModel",
      "_view_count": null,
      "_view_module": "@jupyter-widgets/base",
      "_view_module_version": "1.2.0",
      "_view_name": "LayoutView",
      "align_content": null,
      "align_items": null,
      "align_self": null,
      "border": null,
      "bottom": null,
      "display": null,
      "flex": null,
      "flex_flow": null,
      "grid_area": null,
      "grid_auto_columns": null,
      "grid_auto_flow": null,
      "grid_auto_rows": null,
      "grid_column": null,
      "grid_gap": null,
      "grid_row": null,
      "grid_template_areas": null,
      "grid_template_columns": null,
      "grid_template_rows": null,
      "height": null,
      "justify_content": null,
      "justify_items": null,
      "left": null,
      "margin": null,
      "max_height": null,
      "max_width": null,
      "min_height": null,
      "min_width": null,
      "object_fit": null,
      "object_position": null,
      "order": null,
      "overflow": null,
      "overflow_x": null,
      "overflow_y": null,
      "padding": null,
      "right": null,
      "top": null,
      "visibility": null,
      "width": null
     }
    },
    "fef98eecd7944a9a8c89ce4fed60b843": {
     "model_module": "@jupyter-widgets/base",
     "model_module_version": "1.2.0",
     "model_name": "LayoutModel",
     "state": {
      "_model_module": "@jupyter-widgets/base",
      "_model_module_version": "1.2.0",
      "_model_name": "LayoutModel",
      "_view_count": null,
      "_view_module": "@jupyter-widgets/base",
      "_view_module_version": "1.2.0",
      "_view_name": "LayoutView",
      "align_content": null,
      "align_items": null,
      "align_self": null,
      "border": null,
      "bottom": null,
      "display": null,
      "flex": null,
      "flex_flow": null,
      "grid_area": null,
      "grid_auto_columns": null,
      "grid_auto_flow": null,
      "grid_auto_rows": null,
      "grid_column": null,
      "grid_gap": null,
      "grid_row": null,
      "grid_template_areas": null,
      "grid_template_columns": null,
      "grid_template_rows": null,
      "height": null,
      "justify_content": null,
      "justify_items": null,
      "left": null,
      "margin": null,
      "max_height": null,
      "max_width": null,
      "min_height": null,
      "min_width": null,
      "object_fit": null,
      "object_position": null,
      "order": null,
      "overflow": null,
      "overflow_x": null,
      "overflow_y": null,
      "padding": null,
      "right": null,
      "top": null,
      "visibility": null,
      "width": null
     }
    }
   }
  }
 },
 "nbformat": 4,
 "nbformat_minor": 4
}
